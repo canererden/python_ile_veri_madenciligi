{
 "cells": [
  {
   "cell_type": "code",
   "execution_count": 1,
   "id": "saving-zambia",
   "metadata": {},
   "outputs": [],
   "source": [
    "import pandas as pd\n",
    "import numpy as np\n",
    "import matplotlib.pyplot as plt\n",
    "from sklearn.linear_model import LinearRegression  # lineer regresyon fonksiyonu\n",
    "from sklearn.metrics import r2_score, mean_absolute_error, mean_squared_error  # Performans ölçümleri için gerekli.\n",
    "from sklearn.model_selection import train_test_split"
   ]
  },
  {
   "cell_type": "code",
   "execution_count": 2,
   "id": "personalized-charity",
   "metadata": {},
   "outputs": [],
   "source": [
    "# Veriler\n",
    "reklam_giderler = np.array([7,11,15,22,26,28,31]) # x\n",
    "satislar = np.array([223,215,233,264, 305,316,320]) # y"
   ]
  },
  {
   "cell_type": "code",
   "execution_count": 3,
   "id": "cheap-trauma",
   "metadata": {},
   "outputs": [],
   "source": [
    "# Verilerin pandasa dönüştürülmesi\n",
    "df = pd.DataFrame({'reklam_giderleri': reklam_giderler, 'satislar': satislar})"
   ]
  },
  {
   "cell_type": "code",
   "execution_count": 4,
   "id": "danish-capture",
   "metadata": {},
   "outputs": [
    {
     "data": {
      "text/html": [
       "<div>\n",
       "<style scoped>\n",
       "    .dataframe tbody tr th:only-of-type {\n",
       "        vertical-align: middle;\n",
       "    }\n",
       "\n",
       "    .dataframe tbody tr th {\n",
       "        vertical-align: top;\n",
       "    }\n",
       "\n",
       "    .dataframe thead th {\n",
       "        text-align: right;\n",
       "    }\n",
       "</style>\n",
       "<table border=\"1\" class=\"dataframe\">\n",
       "  <thead>\n",
       "    <tr style=\"text-align: right;\">\n",
       "      <th></th>\n",
       "      <th>reklam_giderleri</th>\n",
       "      <th>satislar</th>\n",
       "    </tr>\n",
       "  </thead>\n",
       "  <tbody>\n",
       "    <tr>\n",
       "      <th>0</th>\n",
       "      <td>7</td>\n",
       "      <td>223</td>\n",
       "    </tr>\n",
       "    <tr>\n",
       "      <th>1</th>\n",
       "      <td>11</td>\n",
       "      <td>215</td>\n",
       "    </tr>\n",
       "    <tr>\n",
       "      <th>2</th>\n",
       "      <td>15</td>\n",
       "      <td>233</td>\n",
       "    </tr>\n",
       "    <tr>\n",
       "      <th>3</th>\n",
       "      <td>22</td>\n",
       "      <td>264</td>\n",
       "    </tr>\n",
       "    <tr>\n",
       "      <th>4</th>\n",
       "      <td>26</td>\n",
       "      <td>305</td>\n",
       "    </tr>\n",
       "    <tr>\n",
       "      <th>5</th>\n",
       "      <td>28</td>\n",
       "      <td>316</td>\n",
       "    </tr>\n",
       "    <tr>\n",
       "      <th>6</th>\n",
       "      <td>31</td>\n",
       "      <td>320</td>\n",
       "    </tr>\n",
       "  </tbody>\n",
       "</table>\n",
       "</div>"
      ],
      "text/plain": [
       "   reklam_giderleri  satislar\n",
       "0                 7       223\n",
       "1                11       215\n",
       "2                15       233\n",
       "3                22       264\n",
       "4                26       305\n",
       "5                28       316\n",
       "6                31       320"
      ]
     },
     "execution_count": 4,
     "metadata": {},
     "output_type": "execute_result"
    }
   ],
   "source": [
    "df"
   ]
  },
  {
   "cell_type": "code",
   "execution_count": 5,
   "id": "portuguese-victoria",
   "metadata": {},
   "outputs": [
    {
     "data": {
      "text/html": [
       "<div>\n",
       "<style scoped>\n",
       "    .dataframe tbody tr th:only-of-type {\n",
       "        vertical-align: middle;\n",
       "    }\n",
       "\n",
       "    .dataframe tbody tr th {\n",
       "        vertical-align: top;\n",
       "    }\n",
       "\n",
       "    .dataframe thead th {\n",
       "        text-align: right;\n",
       "    }\n",
       "</style>\n",
       "<table border=\"1\" class=\"dataframe\">\n",
       "  <thead>\n",
       "    <tr style=\"text-align: right;\">\n",
       "      <th></th>\n",
       "      <th>reklam_giderleri</th>\n",
       "      <th>satislar</th>\n",
       "    </tr>\n",
       "  </thead>\n",
       "  <tbody>\n",
       "    <tr>\n",
       "      <th>2001</th>\n",
       "      <td>7</td>\n",
       "      <td>223</td>\n",
       "    </tr>\n",
       "    <tr>\n",
       "      <th>2002</th>\n",
       "      <td>11</td>\n",
       "      <td>215</td>\n",
       "    </tr>\n",
       "    <tr>\n",
       "      <th>2003</th>\n",
       "      <td>15</td>\n",
       "      <td>233</td>\n",
       "    </tr>\n",
       "    <tr>\n",
       "      <th>2004</th>\n",
       "      <td>22</td>\n",
       "      <td>264</td>\n",
       "    </tr>\n",
       "    <tr>\n",
       "      <th>2005</th>\n",
       "      <td>26</td>\n",
       "      <td>305</td>\n",
       "    </tr>\n",
       "    <tr>\n",
       "      <th>2006</th>\n",
       "      <td>28</td>\n",
       "      <td>316</td>\n",
       "    </tr>\n",
       "    <tr>\n",
       "      <th>2007</th>\n",
       "      <td>31</td>\n",
       "      <td>320</td>\n",
       "    </tr>\n",
       "  </tbody>\n",
       "</table>\n",
       "</div>"
      ],
      "text/plain": [
       "      reklam_giderleri  satislar\n",
       "2001                 7       223\n",
       "2002                11       215\n",
       "2003                15       233\n",
       "2004                22       264\n",
       "2005                26       305\n",
       "2006                28       316\n",
       "2007                31       320"
      ]
     },
     "execution_count": 5,
     "metadata": {},
     "output_type": "execute_result"
    }
   ],
   "source": [
    "# İndex sütununu yıllara göre verelim.\n",
    "df.index = ['2001', '2002', '2003', '2004', '2005', '2006', '2007']\n",
    "df"
   ]
  },
  {
   "cell_type": "code",
   "execution_count": 6,
   "id": "chicken-immigration",
   "metadata": {},
   "outputs": [
    {
     "data": {
      "text/plain": [
       "Text(0, 0.5, 'Satış Gelirleri')"
      ]
     },
     "execution_count": 6,
     "metadata": {},
     "output_type": "execute_result"
    },
    {
     "data": {
      "image/png": "[encoded data removed]",
      "text/plain": [
       "<Figure size 432x288 with 1 Axes>"
      ]
     },
     "metadata": {
      "needs_background": "light"
     },
     "output_type": "display_data"
    }
   ],
   "source": [
    "# Verilerin dağılım grafiği\n",
    "plt.scatter(x=reklam_giderler,y=satislar)\n",
    "plt.xlabel('Reklam Giderleri')\n",
    "plt.ylabel('Satış Gelirleri')"
   ]
  },
  {
   "cell_type": "code",
   "execution_count": 7,
   "id": "played-sunrise",
   "metadata": {},
   "outputs": [
    {
     "data": {
      "text/plain": [
       "<ErrorbarContainer object of 3 artists>"
      ]
     },
     "execution_count": 7,
     "metadata": {},
     "output_type": "execute_result"
    },
    {
     "data": {
      "image/png": "[encoded data removed]",
      "text/plain": [
       "<Figure size 432x288 with 1 Axes>"
      ]
     },
     "metadata": {
      "needs_background": "light"
     },
     "output_type": "display_data"
    }
   ],
   "source": [
    "# deneme amaçlı reklam giderleri*5 + 3 denkleminin grafiği\n",
    "plt.scatter(x=reklam_giderler,y=satislar)\n",
    "plt.xlabel('Reklam Giderleri')\n",
    "plt.ylabel('Satış Gelirleri')\n",
    "plt.plot(reklam_giderler, reklam_giderler*5+3)\n",
    "plt.errorbar(reklam_giderler, reklam_giderler*5+3, yerr=reklam_giderler*5+3-satislar)"
   ]
  },
  {
   "cell_type": "code",
   "execution_count": 8,
   "id": "assumed-character",
   "metadata": {},
   "outputs": [
    {
     "data": {
      "text/plain": [
       "<ErrorbarContainer object of 3 artists>"
      ]
     },
     "execution_count": 8,
     "metadata": {},
     "output_type": "execute_result"
    },
    {
     "data": {
      "image/png": "[encoded data removed]",
      "text/plain": [
       "<Figure size 432x288 with 1 Axes>"
      ]
     },
     "metadata": {
      "needs_background": "light"
     },
     "output_type": "display_data"
    }
   ],
   "source": [
    "# uzak kaldığı için *10 +30 deneyelim.\n",
    "plt.scatter(x=reklam_giderler,y=satislar)\n",
    "plt.xlabel('Reklam Giderleri')\n",
    "plt.ylabel('Satış Gelirleri')\n",
    "plt.plot(reklam_giderler, reklam_giderler*10+30, color='red')\n",
    "plt.errorbar(reklam_giderler, reklam_giderler*10+30, yerr=reklam_giderler*10+30-satislar)"
   ]
  },
  {
   "cell_type": "markdown",
   "id": "substantial-cause",
   "metadata": {},
   "source": [
    "Rastgele çizilen çizginin hatalarının fazla olacaktır. O nedenle bir öğrenme algoritması ile verilerin öğrenilmesi çalışması yapabiliriz.\n",
    "\n",
    "**LinearRegression() parametreleri**\n",
    "- fit_intercept bool, default=True\n",
    "    Whether to calculate the intercept for this model. If set\n",
    "    to False, no intercept will be used in calculations\n",
    "    (i.e. data is expected to be centered).\n",
    "- normalize is a Boolean (False by default) that decides whether to normalize the input variables (True) or not (False).\n",
    "- copy_X is a Boolean (True by default) that decides whether to copy (True) or overwrite the input variables (False).\n",
    "- n_jobs is an integer or None (default) and represents the number of jobs used in parallel computation. None usually means one job and -1 to use all processors."
   ]
  },
  {
   "cell_type": "code",
   "execution_count": 9,
   "id": "careful-alberta",
   "metadata": {},
   "outputs": [],
   "source": [
    "lineer_model = LinearRegression()"
   ]
  },
  {
   "cell_type": "markdown",
   "id": "experienced-triple",
   "metadata": {},
   "source": [
    "**Modeli Oluştururken Kullanılacak Fonksiyonlar**\n",
    "- fit(): Parametrelerin hesaplanmasını sağlar. Modele öğren demektir.\n",
    "- transform(): Modelin veri setine uygulanmasını sağlar.\n",
    "- fit_transform(): Fit ve Transform fonksiyonlarını birlikte sunar."
   ]
  },
  {
   "cell_type": "code",
   "execution_count": 10,
   "id": "blocked-assembly",
   "metadata": {},
   "outputs": [
    {
     "ename": "ValueError",
     "evalue": "Expected 2D array, got 1D array instead:\narray=[ 7 11 15 22 26 28 31].\nReshape your data either using array.reshape(-1, 1) if your data has a single feature or array.reshape(1, -1) if it contains a single sample.",
     "output_type": "error",
     "traceback": [
      "\u001b[1;31m---------------------------------------------------------------------------\u001b[0m",
      "\u001b[1;31mValueError\u001b[0m                                Traceback (most recent call last)",
      "\u001b[1;32m<ipython-input-10-aca54c49f6cd>\u001b[0m in \u001b[0;36m<module>\u001b[1;34m()\u001b[0m\n\u001b[0;32m      1\u001b[0m \u001b[1;31m# beta_0 ve beta_1 i belirle\u001b[0m\u001b[1;33m\u001b[0m\u001b[1;33m\u001b[0m\u001b[1;33m\u001b[0m\u001b[0m\n\u001b[1;32m----> 2\u001b[1;33m \u001b[0mlineer_model\u001b[0m\u001b[1;33m.\u001b[0m\u001b[0mfit\u001b[0m\u001b[1;33m(\u001b[0m\u001b[0mreklam_giderler\u001b[0m\u001b[1;33m,\u001b[0m \u001b[0msatislar\u001b[0m\u001b[1;33m)\u001b[0m\u001b[1;33m\u001b[0m\u001b[1;33m\u001b[0m\u001b[0m\n\u001b[0m",
      "\u001b[1;32mD:\\Miniconda3\\lib\\site-packages\\sklearn\\linear_model\\_base.py\u001b[0m in \u001b[0;36mfit\u001b[1;34m(self, X, y, sample_weight)\u001b[0m\n\u001b[0;32m    517\u001b[0m \u001b[1;33m\u001b[0m\u001b[0m\n\u001b[0;32m    518\u001b[0m         X, y = self._validate_data(X, y, accept_sparse=accept_sparse,\n\u001b[1;32m--> 519\u001b[1;33m                                    y_numeric=True, multi_output=True)\n\u001b[0m\u001b[0;32m    520\u001b[0m \u001b[1;33m\u001b[0m\u001b[0m\n\u001b[0;32m    521\u001b[0m         \u001b[1;32mif\u001b[0m \u001b[0msample_weight\u001b[0m \u001b[1;32mis\u001b[0m \u001b[1;32mnot\u001b[0m \u001b[1;32mNone\u001b[0m\u001b[1;33m:\u001b[0m\u001b[1;33m\u001b[0m\u001b[1;33m\u001b[0m\u001b[0m\n",
      "\u001b[1;32mD:\\Miniconda3\\lib\\site-packages\\sklearn\\base.py\u001b[0m in \u001b[0;36m_validate_data\u001b[1;34m(self, X, y, reset, validate_separately, **check_params)\u001b[0m\n\u001b[0;32m    431\u001b[0m                 \u001b[0my\u001b[0m \u001b[1;33m=\u001b[0m \u001b[0mcheck_array\u001b[0m\u001b[1;33m(\u001b[0m\u001b[0my\u001b[0m\u001b[1;33m,\u001b[0m \u001b[1;33m**\u001b[0m\u001b[0mcheck_y_params\u001b[0m\u001b[1;33m)\u001b[0m\u001b[1;33m\u001b[0m\u001b[1;33m\u001b[0m\u001b[0m\n\u001b[0;32m    432\u001b[0m             \u001b[1;32melse\u001b[0m\u001b[1;33m:\u001b[0m\u001b[1;33m\u001b[0m\u001b[1;33m\u001b[0m\u001b[0m\n\u001b[1;32m--> 433\u001b[1;33m                 \u001b[0mX\u001b[0m\u001b[1;33m,\u001b[0m \u001b[0my\u001b[0m \u001b[1;33m=\u001b[0m \u001b[0mcheck_X_y\u001b[0m\u001b[1;33m(\u001b[0m\u001b[0mX\u001b[0m\u001b[1;33m,\u001b[0m \u001b[0my\u001b[0m\u001b[1;33m,\u001b[0m \u001b[1;33m**\u001b[0m\u001b[0mcheck_params\u001b[0m\u001b[1;33m)\u001b[0m\u001b[1;33m\u001b[0m\u001b[1;33m\u001b[0m\u001b[0m\n\u001b[0m\u001b[0;32m    434\u001b[0m             \u001b[0mout\u001b[0m \u001b[1;33m=\u001b[0m \u001b[0mX\u001b[0m\u001b[1;33m,\u001b[0m \u001b[0my\u001b[0m\u001b[1;33m\u001b[0m\u001b[1;33m\u001b[0m\u001b[0m\n\u001b[0;32m    435\u001b[0m \u001b[1;33m\u001b[0m\u001b[0m\n",
      "\u001b[1;32mD:\\Miniconda3\\lib\\site-packages\\sklearn\\utils\\validation.py\u001b[0m in \u001b[0;36minner_f\u001b[1;34m(*args, **kwargs)\u001b[0m\n\u001b[0;32m     61\u001b[0m             \u001b[0mextra_args\u001b[0m \u001b[1;33m=\u001b[0m \u001b[0mlen\u001b[0m\u001b[1;33m(\u001b[0m\u001b[0margs\u001b[0m\u001b[1;33m)\u001b[0m \u001b[1;33m-\u001b[0m \u001b[0mlen\u001b[0m\u001b[1;33m(\u001b[0m\u001b[0mall_args\u001b[0m\u001b[1;33m)\u001b[0m\u001b[1;33m\u001b[0m\u001b[1;33m\u001b[0m\u001b[0m\n\u001b[0;32m     62\u001b[0m             \u001b[1;32mif\u001b[0m \u001b[0mextra_args\u001b[0m \u001b[1;33m<=\u001b[0m \u001b[1;36m0\u001b[0m\u001b[1;33m:\u001b[0m\u001b[1;33m\u001b[0m\u001b[1;33m\u001b[0m\u001b[0m\n\u001b[1;32m---> 63\u001b[1;33m                 \u001b[1;32mreturn\u001b[0m \u001b[0mf\u001b[0m\u001b[1;33m(\u001b[0m\u001b[1;33m*\u001b[0m\u001b[0margs\u001b[0m\u001b[1;33m,\u001b[0m \u001b[1;33m**\u001b[0m\u001b[0mkwargs\u001b[0m\u001b[1;33m)\u001b[0m\u001b[1;33m\u001b[0m\u001b[1;33m\u001b[0m\u001b[0m\n\u001b[0m\u001b[0;32m     64\u001b[0m \u001b[1;33m\u001b[0m\u001b[0m\n\u001b[0;32m     65\u001b[0m             \u001b[1;31m# extra_args > 0\u001b[0m\u001b[1;33m\u001b[0m\u001b[1;33m\u001b[0m\u001b[1;33m\u001b[0m\u001b[0m\n",
      "\u001b[1;32mD:\\Miniconda3\\lib\\site-packages\\sklearn\\utils\\validation.py\u001b[0m in \u001b[0;36mcheck_X_y\u001b[1;34m(X, y, accept_sparse, accept_large_sparse, dtype, order, copy, force_all_finite, ensure_2d, allow_nd, multi_output, ensure_min_samples, ensure_min_features, y_numeric, estimator)\u001b[0m\n\u001b[0;32m    819\u001b[0m                     \u001b[0mensure_min_samples\u001b[0m\u001b[1;33m=\u001b[0m\u001b[0mensure_min_samples\u001b[0m\u001b[1;33m,\u001b[0m\u001b[1;33m\u001b[0m\u001b[1;33m\u001b[0m\u001b[0m\n\u001b[0;32m    820\u001b[0m                     \u001b[0mensure_min_features\u001b[0m\u001b[1;33m=\u001b[0m\u001b[0mensure_min_features\u001b[0m\u001b[1;33m,\u001b[0m\u001b[1;33m\u001b[0m\u001b[1;33m\u001b[0m\u001b[0m\n\u001b[1;32m--> 821\u001b[1;33m                     estimator=estimator)\n\u001b[0m\u001b[0;32m    822\u001b[0m     \u001b[1;32mif\u001b[0m \u001b[0mmulti_output\u001b[0m\u001b[1;33m:\u001b[0m\u001b[1;33m\u001b[0m\u001b[1;33m\u001b[0m\u001b[0m\n\u001b[0;32m    823\u001b[0m         y = check_array(y, accept_sparse='csr', force_all_finite=True,\n",
      "\u001b[1;32mD:\\Miniconda3\\lib\\site-packages\\sklearn\\utils\\validation.py\u001b[0m in \u001b[0;36minner_f\u001b[1;34m(*args, **kwargs)\u001b[0m\n\u001b[0;32m     61\u001b[0m             \u001b[0mextra_args\u001b[0m \u001b[1;33m=\u001b[0m \u001b[0mlen\u001b[0m\u001b[1;33m(\u001b[0m\u001b[0margs\u001b[0m\u001b[1;33m)\u001b[0m \u001b[1;33m-\u001b[0m \u001b[0mlen\u001b[0m\u001b[1;33m(\u001b[0m\u001b[0mall_args\u001b[0m\u001b[1;33m)\u001b[0m\u001b[1;33m\u001b[0m\u001b[1;33m\u001b[0m\u001b[0m\n\u001b[0;32m     62\u001b[0m             \u001b[1;32mif\u001b[0m \u001b[0mextra_args\u001b[0m \u001b[1;33m<=\u001b[0m \u001b[1;36m0\u001b[0m\u001b[1;33m:\u001b[0m\u001b[1;33m\u001b[0m\u001b[1;33m\u001b[0m\u001b[0m\n\u001b[1;32m---> 63\u001b[1;33m                 \u001b[1;32mreturn\u001b[0m \u001b[0mf\u001b[0m\u001b[1;33m(\u001b[0m\u001b[1;33m*\u001b[0m\u001b[0margs\u001b[0m\u001b[1;33m,\u001b[0m \u001b[1;33m**\u001b[0m\u001b[0mkwargs\u001b[0m\u001b[1;33m)\u001b[0m\u001b[1;33m\u001b[0m\u001b[1;33m\u001b[0m\u001b[0m\n\u001b[0m\u001b[0;32m     64\u001b[0m \u001b[1;33m\u001b[0m\u001b[0m\n\u001b[0;32m     65\u001b[0m             \u001b[1;31m# extra_args > 0\u001b[0m\u001b[1;33m\u001b[0m\u001b[1;33m\u001b[0m\u001b[1;33m\u001b[0m\u001b[0m\n",
      "\u001b[1;32mD:\\Miniconda3\\lib\\site-packages\\sklearn\\utils\\validation.py\u001b[0m in \u001b[0;36mcheck_array\u001b[1;34m(array, accept_sparse, accept_large_sparse, dtype, order, copy, force_all_finite, ensure_2d, allow_nd, ensure_min_samples, ensure_min_features, estimator)\u001b[0m\n\u001b[0;32m    639\u001b[0m                     \u001b[1;34m\"Reshape your data either using array.reshape(-1, 1) if \"\u001b[0m\u001b[1;33m\u001b[0m\u001b[1;33m\u001b[0m\u001b[0m\n\u001b[0;32m    640\u001b[0m                     \u001b[1;34m\"your data has a single feature or array.reshape(1, -1) \"\u001b[0m\u001b[1;33m\u001b[0m\u001b[1;33m\u001b[0m\u001b[0m\n\u001b[1;32m--> 641\u001b[1;33m                     \"if it contains a single sample.\".format(array))\n\u001b[0m\u001b[0;32m    642\u001b[0m \u001b[1;33m\u001b[0m\u001b[0m\n\u001b[0;32m    643\u001b[0m         \u001b[1;31m# make sure we actually converted to numeric:\u001b[0m\u001b[1;33m\u001b[0m\u001b[1;33m\u001b[0m\u001b[1;33m\u001b[0m\u001b[0m\n",
      "\u001b[1;31mValueError\u001b[0m: Expected 2D array, got 1D array instead:\narray=[ 7 11 15 22 26 28 31].\nReshape your data either using array.reshape(-1, 1) if your data has a single feature or array.reshape(1, -1) if it contains a single sample."
     ]
    }
   ],
   "source": [
    "# beta_0 ve beta_1 i belirle\n",
    "lineer_model.fit(reklam_giderler, satislar)"
   ]
  },
  {
   "cell_type": "code",
   "execution_count": 11,
   "id": "fundamental-viking",
   "metadata": {},
   "outputs": [],
   "source": [
    "# Hatanın çözümü için X'in sütun sütun verilmesi gerekiyor.\n",
    "reklam_giderler = reklam_giderler.reshape(-1,1)"
   ]
  },
  {
   "cell_type": "code",
   "execution_count": 13,
   "id": "artistic-integral",
   "metadata": {},
   "outputs": [
    {
     "data": {
      "text/plain": [
       "LinearRegression()"
      ]
     },
     "execution_count": 13,
     "metadata": {},
     "output_type": "execute_result"
    }
   ],
   "source": [
    "# beta_0 ve beta_1 i belirle\n",
    "lineer_model.fit(reklam_giderler, satislar)"
   ]
  },
  {
   "cell_type": "code",
   "execution_count": 15,
   "id": "answering-flood",
   "metadata": {},
   "outputs": [
    {
     "name": "stdout",
     "output_type": "stream",
     "text": [
      "beta_0= 171.72 beta_1 = 4.814\n"
     ]
    }
   ],
   "source": [
    "# beta_0,1 i yazdır\n",
    "print('beta_0= {} beta_1 = {}'.format(lineer_model.intercept_,\n",
    "                                      lineer_model.coef_[0]))"
   ]
  },
  {
   "cell_type": "code",
   "execution_count": 16,
   "id": "large-assurance",
   "metadata": {},
   "outputs": [
    {
     "data": {
      "text/plain": [
       "0.9305571795695471"
      ]
     },
     "execution_count": 16,
     "metadata": {},
     "output_type": "execute_result"
    }
   ],
   "source": [
    "# Modelin r2 skoru\n",
    "lineer_model.score(reklam_giderler, satislar)"
   ]
  },
  {
   "cell_type": "markdown",
   "id": "killing-alarm",
   "metadata": {},
   "source": [
    "Öğrenme performansından memnun isek tahmin aşamasına geçilebilir. Tahmin için kullanacağımız fonksiyon\n",
    "- predict(): Predict using the linear model.\n",
    "\n",
    "\n",
    "Tahmin edilen değerler aşağıdaki gibidir."
   ]
  },
  {
   "cell_type": "code",
   "execution_count": 17,
   "id": "irish-spring",
   "metadata": {},
   "outputs": [
    {
     "data": {
      "text/plain": [
       "array([205.418, 224.674, 243.93 , 277.628, 296.884, 306.512, 320.954])"
      ]
     },
     "execution_count": 17,
     "metadata": {},
     "output_type": "execute_result"
    }
   ],
   "source": [
    "lineer_model.predict(reklam_giderler)"
   ]
  },
  {
   "cell_type": "code",
   "execution_count": 18,
   "id": "excessive-citizenship",
   "metadata": {},
   "outputs": [
    {
     "data": {
      "text/plain": [
       "array([223, 215, 233, 264, 305, 316, 320])"
      ]
     },
     "execution_count": 18,
     "metadata": {},
     "output_type": "execute_result"
    }
   ],
   "source": [
    "# Gerçek değerler\n",
    "satislar"
   ]
  },
  {
   "cell_type": "code",
   "execution_count": 20,
   "id": "voluntary-bobby",
   "metadata": {},
   "outputs": [
    {
     "data": {
      "text/plain": [
       "array([-17.582,   9.674,  10.93 ,  13.628,  -8.116,  -9.488,   0.954])"
      ]
     },
     "execution_count": 20,
     "metadata": {},
     "output_type": "execute_result"
    }
   ],
   "source": [
    "# Hatalar (Errors)\n",
    "satislar_tahmin = lineer_model.predict(reklam_giderler)\n",
    "hatalar = satislar_tahmin - satislar\n",
    "hatalar"
   ]
  },
  {
   "cell_type": "code",
   "execution_count": 22,
   "id": "dedicated-confidentiality",
   "metadata": {},
   "outputs": [
    {
     "data": {
      "text/plain": [
       "0.0"
      ]
     },
     "execution_count": 22,
     "metadata": {},
     "output_type": "execute_result"
    }
   ],
   "source": [
    "# Hataların toplamı\n",
    "hatalar.sum().round()"
   ]
  },
  {
   "cell_type": "code",
   "execution_count": 23,
   "id": "separated-devon",
   "metadata": {},
   "outputs": [
    {
     "data": {
      "text/plain": [
       "array([309.126724,  93.586276, 119.4649  , 185.722384,  65.869456,\n",
       "        90.022144,   0.910116])"
      ]
     },
     "execution_count": 23,
     "metadata": {},
     "output_type": "execute_result"
    }
   ],
   "source": [
    "# hataların karesi\n",
    "hatalarin_karesi = np.square(hatalar)\n",
    "hatalarin_karesi"
   ]
  },
  {
   "cell_type": "code",
   "execution_count": 24,
   "id": "imposed-canyon",
   "metadata": {},
   "outputs": [
    {
     "data": {
      "text/plain": [
       "123.52885714285706"
      ]
     },
     "execution_count": 24,
     "metadata": {},
     "output_type": "execute_result"
    }
   ],
   "source": [
    "# Ortalama Karesel Hatalar (MSE - Mean Squared Error)\n",
    "mse = np.mean(hatalarin_karesi)\n",
    "mse"
   ]
  },
  {
   "cell_type": "code",
   "execution_count": 25,
   "id": "rubber-bahrain",
   "metadata": {},
   "outputs": [
    {
     "data": {
      "text/plain": [
       "123.52885714285706"
      ]
     },
     "execution_count": 25,
     "metadata": {},
     "output_type": "execute_result"
    }
   ],
   "source": [
    "# Scikit-learn ile MSE\n",
    "mean_squared_error(satislar, satislar_tahmin)"
   ]
  },
  {
   "cell_type": "code",
   "execution_count": 26,
   "id": "quantitative-cartoon",
   "metadata": {},
   "outputs": [
    {
     "name": "stdout",
     "output_type": "stream",
     "text": [
      "10.053142857142856\n"
     ]
    }
   ],
   "source": [
    "# Ortalama Mutlak Hatalar (MAE - Mean Absolute Error)\n",
    "mae = np.mean(np.abs(hatalar))\n",
    "print(mae)"
   ]
  },
  {
   "cell_type": "code",
   "execution_count": 27,
   "id": "loaded-florida",
   "metadata": {},
   "outputs": [
    {
     "data": {
      "text/plain": [
       "10.053142857142856"
      ]
     },
     "execution_count": 27,
     "metadata": {},
     "output_type": "execute_result"
    }
   ],
   "source": [
    "# Scikit-learn ile MAE\n",
    "mean_absolute_error(satislar, satislar_tahmin)"
   ]
  },
  {
   "cell_type": "code",
   "execution_count": 28,
   "id": "joint-cambodia",
   "metadata": {},
   "outputs": [
    {
     "data": {
      "text/plain": [
       "11.114353653850369"
      ]
     },
     "execution_count": 28,
     "metadata": {},
     "output_type": "execute_result"
    }
   ],
   "source": [
    "# Ortalama Karesel Hataların Karekökü (RMSE - Root Mean Squared Error)\n",
    "rmse = np.sqrt(mse)\n",
    "rmse"
   ]
  },
  {
   "cell_type": "code",
   "execution_count": 29,
   "id": "verbal-argentina",
   "metadata": {},
   "outputs": [
    {
     "data": {
      "text/plain": [
       "11.114353653850369"
      ]
     },
     "execution_count": 29,
     "metadata": {},
     "output_type": "execute_result"
    }
   ],
   "source": [
    "# Scikit-learn ile RMSE\n",
    "mean_squared_error(satislar, satislar_tahmin, squared=False)"
   ]
  },
  {
   "cell_type": "markdown",
   "id": "agricultural-investigation",
   "metadata": {},
   "source": [
    "**Bias ve Varyans**\n",
    "\n",
    "Varyans, gerçekleşen değerlerin tahmin edilen değerlerin ortalamasından ne kadar saptığını gösterir. r2 skoru ile hesaplanır seviyesi hesaplanır. MSE ile alakalıdır."
   ]
  },
  {
   "cell_type": "code",
   "execution_count": 30,
   "id": "egyptian-rugby",
   "metadata": {},
   "outputs": [
    {
     "data": {
      "text/plain": [
       "123.52885714285706"
      ]
     },
     "execution_count": 30,
     "metadata": {},
     "output_type": "execute_result"
    }
   ],
   "source": [
    "varyans = np.var(hatalar)\n",
    "varyans"
   ]
  },
  {
   "cell_type": "markdown",
   "id": "radio-waterproof",
   "metadata": {},
   "source": [
    "**score()**: Gerçek değerler ile tahmin değerleri arasındaki hataları karşılaştırır.\n",
    "**r2 skoru**\n",
    "bağımsız değişkenin öngörebildiği bağımlı değişkendeki varyans oranı\n",
    "\n",
    "diğer tanımla;\n",
    "\n",
    "(model tarafından açıklanan toplam varyans) / toplam varyans\n",
    "\n",
    "$𝑅^2=1−\\frac{\\sum𝑒_𝑖^2}{\\sum(𝑌−\\overline{𝑌})^2}$\n"
   ]
  },
  {
   "cell_type": "code",
   "execution_count": 31,
   "id": "distinct-johnston",
   "metadata": {},
   "outputs": [
    {
     "data": {
      "text/plain": [
       "0.9305571795695471"
      ]
     },
     "execution_count": 31,
     "metadata": {},
     "output_type": "execute_result"
    }
   ],
   "source": [
    "r2_skoru = 1 - (hatalarin_karesi /\n",
    "                ((satislar - satislar.mean())**2).sum()).sum()\n",
    "r2_skoru"
   ]
  },
  {
   "cell_type": "code",
   "execution_count": 32,
   "id": "working-wonder",
   "metadata": {},
   "outputs": [
    {
     "data": {
      "text/plain": [
       "0.9305571795695471"
      ]
     },
     "execution_count": 32,
     "metadata": {},
     "output_type": "execute_result"
    }
   ],
   "source": [
    "# Scikitlearn içerisinde r2 score\n",
    "r2_score(satislar, satislar_tahmin)"
   ]
  },
  {
   "cell_type": "code",
   "execution_count": 33,
   "id": "radical-voluntary",
   "metadata": {},
   "outputs": [
    {
     "data": {
      "text/plain": [
       "[<matplotlib.lines.Line2D at 0x163d9fe2860>]"
      ]
     },
     "execution_count": 33,
     "metadata": {},
     "output_type": "execute_result"
    },
    {
     "data": {
      "image/png": "[encoded data removed]",
      "text/plain": [
       "<Figure size 432x288 with 1 Axes>"
      ]
     },
     "metadata": {
      "needs_background": "light"
     },
     "output_type": "display_data"
    }
   ],
   "source": [
    "# Sonuçların görselleştirilmesi\n",
    "plt.plot(satislar_tahmin)\n",
    "plt.plot(satislar)"
   ]
  },
  {
   "cell_type": "code",
   "execution_count": 34,
   "id": "personal-dublin",
   "metadata": {},
   "outputs": [
    {
     "data": {
      "text/plain": [
       "[<matplotlib.lines.Line2D at 0x163da122e80>]"
      ]
     },
     "execution_count": 34,
     "metadata": {},
     "output_type": "execute_result"
    },
    {
     "data": {
      "image/png": "[encoded data removed]",
      "text/plain": [
       "<Figure size 432x288 with 1 Axes>"
      ]
     },
     "metadata": {
      "needs_background": "light"
     },
     "output_type": "display_data"
    }
   ],
   "source": [
    "# x değerlerini verelim.\n",
    "plt.plot(reklam_giderler, satislar_tahmin)\n",
    "plt.plot(reklam_giderler, satislar)"
   ]
  },
  {
   "cell_type": "code",
   "execution_count": 35,
   "id": "precise-limitation",
   "metadata": {},
   "outputs": [
    {
     "data": {
      "text/plain": [
       "<matplotlib.legend.Legend at 0x163da1a3470>"
      ]
     },
     "execution_count": 35,
     "metadata": {},
     "output_type": "execute_result"
    },
    {
     "data": {
      "image/png": "[encoded data removed]",
      "text/plain": [
       "<Figure size 432x288 with 1 Axes>"
      ]
     },
     "metadata": {
      "needs_background": "light"
     },
     "output_type": "display_data"
    }
   ],
   "source": [
    "# etiketlerin eklenmesi\n",
    "plt.plot(reklam_giderler, satislar_tahmin, label='Tahmin Değerleri')\n",
    "plt.plot(reklam_giderler, satislar, label='Gerçek Değerler')\n",
    "plt.legend()"
   ]
  },
  {
   "cell_type": "code",
   "execution_count": 36,
   "id": "golden-geography",
   "metadata": {},
   "outputs": [
    {
     "data": {
      "text/plain": [
       "<matplotlib.legend.Legend at 0x163da20bd30>"
      ]
     },
     "execution_count": 36,
     "metadata": {},
     "output_type": "execute_result"
    },
    {
     "data": {
      "image/png": "[encoded data removed]",
      "text/plain": [
       "<Figure size 432x288 with 1 Axes>"
      ]
     },
     "metadata": {
      "needs_background": "light"
     },
     "output_type": "display_data"
    }
   ],
   "source": [
    "# Marker eklenmesi\n",
    "plt.plot(reklam_giderler, satislar_tahmin, label='Tahmin Değerleri', marker='.')\n",
    "plt.plot(reklam_giderler, satislar, label='Gerçek Değerler', marker='o')\n",
    "plt.xlabel('Reklam Harcamaları')\n",
    "plt.ylabel('Satış Gelirleri')\n",
    "plt.legend()"
   ]
  },
  {
   "cell_type": "code",
   "execution_count": 39,
   "id": "pointed-twist",
   "metadata": {
    "scrolled": true
   },
   "outputs": [
    {
     "data": {
      "text/plain": [
       "<matplotlib.legend.Legend at 0x163da3f7f28>"
      ]
     },
     "execution_count": 39,
     "metadata": {},
     "output_type": "execute_result"
    },
    {
     "data": {
      "image/png": "[encoded data removed]",
      "text/plain": [
       "<Figure size 432x288 with 1 Axes>"
      ]
     },
     "metadata": {
      "needs_background": "light"
     },
     "output_type": "display_data"
    }
   ],
   "source": [
    "# regresyon çizgisi\n",
    "plt.scatter(x=reklam_giderler,y=satislar)\n",
    "plt.plot(reklam_giderler, reklam_giderler*lineer_model.coef_[0]+lineer_model.intercept_, color='red', label='regresyon çizgisi')\n",
    "plt.xlabel('Reklam Harcamaları')\n",
    "plt.ylabel('Satış Gelirleri')\n",
    "plt.legend()"
   ]
  },
  {
   "cell_type": "code",
   "execution_count": null,
   "id": "western-shooting",
   "metadata": {},
   "outputs": [],
   "source": []
  }
 ],
 "metadata": {
  "kernelspec": {
   "display_name": "Python 3",
   "language": "python",
   "name": "python3"
  },
  "language_info": {
   "codemirror_mode": {
    "name": "ipython",
    "version": 3
   },
   "file_extension": ".py",
   "mimetype": "text/x-python",
   "name": "python",
   "nbconvert_exporter": "python",
   "pygments_lexer": "ipython3",
   "version": "3.7.3"
  },
  "toc": {
   "base_numbering": 1,
   "nav_menu": {},
   "number_sections": true,
   "sideBar": true,
   "skip_h1_title": false,
   "title_cell": "Table of Contents",
   "title_sidebar": "Contents",
   "toc_cell": false,
   "toc_position": {},
   "toc_section_display": true,
   "toc_window_display": false
  }
 },
 "nbformat": 4,
 "nbformat_minor": 5
}