{
 "cells": [
  {
   "cell_type": "markdown",
   "metadata": {},
   "source": [
    "# COVID19 Data Analysis\n",
    "\n"
   ]
  },
  {
   "cell_type": "code",
   "execution_count": null,
   "metadata": {},
   "outputs": [],
   "source": [
    "import pandas as pd\n",
    "import numpy as np\n",
    "import matplotlib.pyplot as plt\n",
    "from seaborn import heatmap\n",
    "from sklearn.model_selection import train_test_split\n",
    "from sklearn.linear_model import LinearRegression\n",
    "from sklearn.svm import SVR\n",
    "from sklearn.metrics import mean_squared_error, r2_score\n",
    "from sklearn.preprocessing import MinMaxScaler\n",
    "from sklearn.neural_network import MLPRegressor"
   ]
  },
  {
   "cell_type": "code",
   "execution_count": null,
   "metadata": {},
   "outputs": [],
   "source": [
    "plt.style.use('ggplot')"
   ]
  },
  {
   "cell_type": "code",
   "execution_count": null,
   "metadata": {},
   "outputs": [],
   "source": [
    "csv_file_url = 'https://drive.google.com/uc?export=view&id=11SJRu_ghaKQCmKTNP6avuSgOr_RqB7tx'\n",
    "dataset = pd.read_csv(csv_file_url, sep=';', index_col=0)\n",
    "dataset.index = pd.to_datetime(dataset.index, format='%d.%m.%Y')\n",
    "dataset.head(10)"
   ]
  },
  {
   "cell_type": "code",
   "execution_count": null,
   "metadata": {},
   "outputs": [],
   "source": [
    "for i, col in enumerate(dataset.columns.tolist()):\n",
    "    plt.figure(figsize=(10, 6))\n",
    "    x_axis = dataset.index.values\n",
    "    y_axis = dataset[col].values\n",
    "    plt.plot(x_axis, y_axis, label=col,marker='o')\n",
    "    plt.title(col)\n",
    "    plt.xlabel(\"Day\")\n",
    "    plt.ylabel(\"Number of people\")\n",
    "    plt.xticks(pd.date_range(dataset.index.values[0],\n",
    "                             dataset.index.values[-1],\n",
    "                             freq='W'),\n",
    "               rotation=90)\n",
    "    counter = 0\n",
    "    for j, k in zip(x_axis, y_axis):\n",
    "        counter += 1\n",
    "        if not counter%7:\n",
    "            plt.annotate(str(k), xy=(j, k))\n",
    "    plt.savefig(\"outputs\\{}.png\".format(col))"
   ]
  },
  {
   "cell_type": "code",
   "execution_count": null,
   "metadata": {},
   "outputs": [],
   "source": [
    "# ilk 8 günün verisi öngörülebilir olmadığı için öteleyelim\n",
    "dataset_shifted = dataset.iloc[9:,:]\n",
    "dataset_shifted.head()"
   ]
  },
  {
   "cell_type": "code",
   "execution_count": null,
   "metadata": {},
   "outputs": [],
   "source": [
    "# About Data.\n",
    "dataset_shifted.describe()"
   ]
  },
  {
   "cell_type": "code",
   "execution_count": null,
   "metadata": {},
   "outputs": [],
   "source": [
    "scaler = MinMaxScaler()\n",
    "dataset_scaled = pd.DataFrame(scaler.fit_transform(dataset_shifted),\n",
    "                              columns=dataset_shifted.columns)"
   ]
  },
  {
   "cell_type": "code",
   "execution_count": null,
   "metadata": {},
   "outputs": [],
   "source": [
    "corr = dataset_scaled.corr()\n",
    "corr"
   ]
  },
  {
   "cell_type": "code",
   "execution_count": null,
   "metadata": {},
   "outputs": [],
   "source": [
    "heatmap(corr,\n",
    "        xticklabels=dataset_shifted.columns,\n",
    "        yticklabels=dataset_shifted.columns)"
   ]
  },
  {
   "cell_type": "markdown",
   "metadata": {},
   "source": [
    "num_case ile num_recovered girdi değişkeni, num_intube, num_yogun_bakim ise çıktı değişkeni olarak alınmıştır."
   ]
  },
  {
   "cell_type": "code",
   "execution_count": null,
   "metadata": {},
   "outputs": [],
   "source": [
    "X = dataset_scaled.iloc[:, [1,4]]\n",
    "y = dataset_scaled.iloc[:,[2,3]]"
   ]
  },
  {
   "cell_type": "code",
   "execution_count": null,
   "metadata": {
    "scrolled": true
   },
   "outputs": [],
   "source": [
    "X"
   ]
  },
  {
   "cell_type": "code",
   "execution_count": null,
   "metadata": {},
   "outputs": [],
   "source": [
    "lr = LinearRegression()\n",
    "lr.fit(X.values, y.values)\n",
    "y_predicted_lr = lr.predict(X.values)\n",
    "print(mean_squared_error(y.values, y_predicted_lr))\n",
    "print(r2_score(y.values, y_predicted_lr))"
   ]
  },
  {
   "cell_type": "code",
   "execution_count": null,
   "metadata": {},
   "outputs": [],
   "source": [
    "%matplotlib inline\n",
    "ax = y.plot(linestyle='-')\n",
    "pd.DataFrame(y_predicted_lr,columns=y.columns).plot(ax=ax,linestyle='--')\n",
    "ax.legend(['actual int. care','actual intubated','predicted int. care','predicted intubated'])"
   ]
  },
  {
   "cell_type": "markdown",
   "metadata": {},
   "source": [
    "plt.plot(dataset_shifted.index.values, y.values, label='actual')\n",
    "plt.plot(dataset_shifted.index.values, y_predicted_lr, label='predict')\n",
    "plt.xticks(pd.date_range(dataset.index.values[0],\n",
    "                         dataset.index.values[-1],\n",
    "                         freq='W'),\n",
    "           rotation=90)\n",
    "plt.title('LR Model')\n",
    "plt.xlabel('Day')\n",
    "plt.ylabel('Number of deaths')\n",
    "plt.legend()\n",
    "#plt.savefig(\"outputs/lr.png\")"
   ]
  },
  {
   "cell_type": "code",
   "execution_count": null,
   "metadata": {},
   "outputs": [],
   "source": [
    "mlp = MLPRegressor(hidden_layer_sizes=(75),max_iter=1000)\n",
    "mlp.fit(X.values, y.values)\n",
    "y_predicted_mlp = mlp.predict(X.values)\n"
   ]
  },
  {
   "cell_type": "code",
   "execution_count": null,
   "metadata": {},
   "outputs": [],
   "source": [
    "# Model evaluation\n",
    "r2_mlp = r2_score(y.values, y_predicted_mlp)\n",
    "print(\"mean_squared_error: \", mean_squared_error(y.values, y_predicted_mlp))\n",
    "print(\"r2_score: \", r2_score(y.values, y_predicted_mlp))"
   ]
  },
  {
   "cell_type": "code",
   "execution_count": null,
   "metadata": {},
   "outputs": [],
   "source": [
    "ax = y.plot(linestyle='-')\n",
    "pd.DataFrame(y_predicted_mlp,columns=y.columns).plot(ax=ax,linestyle='--')\n",
    "ax.legend(['actual int. care','actual intubated','predicted int. care','predicted intubated'])"
   ]
  },
  {
   "cell_type": "code",
   "execution_count": null,
   "metadata": {},
   "outputs": [],
   "source": [
    "mlp.activation"
   ]
  },
  {
   "cell_type": "code",
   "execution_count": null,
   "metadata": {},
   "outputs": [],
   "source": [
    "mlp.coefs_[0].round(2)"
   ]
  },
  {
   "cell_type": "code",
   "execution_count": null,
   "metadata": {},
   "outputs": [],
   "source": []
  }
 ],
 "metadata": {
  "kernelspec": {
   "display_name": "Python 3.7.4 64-bit ('base': conda)",
   "language": "python",
   "name": "python37464bitbaseconda7ed53fe53b85464eb341fdc51fc0e993"
  },
  "language_info": {
   "codemirror_mode": {
    "name": "ipython",
    "version": 3
   },
   "file_extension": ".py",
   "mimetype": "text/x-python",
   "name": "python",
   "nbconvert_exporter": "python",
   "pygments_lexer": "ipython3",
   "version": "3.7.7"
  },
  "varInspector": {
   "cols": {
    "lenName": 16,
    "lenType": 16,
    "lenVar": 40
   },
   "kernels_config": {
    "python": {
     "delete_cmd_postfix": "",
     "delete_cmd_prefix": "del ",
     "library": "var_list.py",
     "varRefreshCmd": "print(var_dic_list())"
    },
    "r": {
     "delete_cmd_postfix": ") ",
     "delete_cmd_prefix": "rm(",
     "library": "var_list.r",
     "varRefreshCmd": "cat(var_dic_list()) "
    }
   },
   "position": {
    "height": "469px",
    "left": "715.8px",
    "right": "20px",
    "top": "28px",
    "width": "549px"
   },
   "types_to_exclude": [
    "module",
    "function",
    "builtin_function_or_method",
    "instance",
    "_Feature"
   ],
   "window_display": false
  }
 },
 "nbformat": 4,
 "nbformat_minor": 4
}
