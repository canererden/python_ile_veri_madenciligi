{
 "metadata": {
  "language_info": {
   "codemirror_mode": {
    "name": "ipython",
    "version": 3
   },
   "file_extension": ".py",
   "mimetype": "text/x-python",
   "name": "python",
   "nbconvert_exporter": "python",
   "pygments_lexer": "ipython3",
   "version": "3.7.3"
  },
  "orig_nbformat": 2,
  "kernelspec": {
   "name": "python373jvsc74a57bd0bd0568d8647bfe2c5b59c81f47863eb65b413eeef312764b5149d804a4a00697",
   "display_name": "Python 3.7.3 64-bit ('base': conda)"
  }
 },
 "nbformat": 4,
 "nbformat_minor": 2,
 "cells": [
  {
   "cell_type": "code",
   "execution_count": 13,
   "metadata": {},
   "outputs": [
    {
     "output_type": "stream",
     "text": [
      "\u001b[1;31mDocstring:\u001b[0m\n",
      "log(x, [base=math.e])\n",
      "Return the logarithm of x to the given base.\n",
      "\n",
      "If the base not specified, returns the natural logarithm (base e) of x.\n",
      "\u001b[1;31mType:\u001b[0m      builtin_function_or_method\n"
     ],
     "name": "stdout"
    }
   ],
   "source": [
    "from math import log\n",
    "log?"
   ]
  },
  {
   "cell_type": "code",
   "execution_count": 40,
   "metadata": {},
   "outputs": [
    {
     "output_type": "execute_result",
     "data": {
      "text/plain": [
       "0.5"
      ]
     },
     "metadata": {},
     "execution_count": 40
    }
   ],
   "source": [
    "# Örnek logaritma 2 tabanında 4\n",
    "log(2,4)"
   ]
  },
  {
   "cell_type": "code",
   "execution_count": 31,
   "metadata": {},
   "outputs": [],
   "source": [
    " def entropi(x):\n",
    "     return - x*log(x,4) - (1 - x)*log((1 - x),2)"
   ]
  },
  {
   "cell_type": "code",
   "execution_count": 32,
   "metadata": {},
   "outputs": [
    {
     "output_type": "execute_result",
     "data": {
      "text/plain": [
       "0.7498609162048067"
      ]
     },
     "metadata": {},
     "execution_count": 32
    }
   ],
   "source": [
    "entropi(3/5)"
   ]
  },
  {
   "cell_type": "code",
   "execution_count": 33,
   "metadata": {},
   "outputs": [],
   "source": [
    "def gini(x):\n",
    "    return (x)*(1 - (x)) + (1 - x)*(1 - (1-x))"
   ]
  },
  {
   "cell_type": "code",
   "execution_count": 35,
   "metadata": {},
   "outputs": [
    {
     "output_type": "execute_result",
     "data": {
      "text/plain": [
       "18.75488750216347"
      ]
     },
     "metadata": {},
     "execution_count": 35
    }
   ],
   "source": [
    "3*log(3,2)+1*log(1,2)+2*log(2,2)+2*log(2,2)+4*log(4,2)+2*log(2,2)"
   ]
  },
  {
   "cell_type": "code",
   "execution_count": 41,
   "metadata": {},
   "outputs": [
    {
     "output_type": "execute_result",
     "data": {
      "text/plain": [
       "0.6935361388961915"
      ]
     },
     "metadata": {},
     "execution_count": 41
    }
   ],
   "source": [
    "(-2*log(2,2)-3*log(3,2)-4*log(4,2)-3*log(3,2)-2*log(2,2)+5*log(5,2)+4*log(4,2)+5*log(5,2))/14"
   ]
  },
  {
   "cell_type": "code",
   "execution_count": 44,
   "metadata": {},
   "outputs": [
    {
     "output_type": "execute_result",
     "data": {
      "text/plain": [
       "0.9110633930116762"
      ]
     },
     "metadata": {},
     "execution_count": 44
    }
   ],
   "source": [
    "(-3*log(3,2)-1*log(1,2)-2*log(2,2)-2*log(2,2)-4*log(4,2)-2*log(2,2)+4*log(4,2)+4*log(4,2)+6*log(6,2))/14"
   ]
  },
  {
   "cell_type": "code",
   "execution_count": 45,
   "metadata": {},
   "outputs": [
    {
     "output_type": "execute_result",
     "data": {
      "text/plain": [
       "0.8500096092778663"
      ]
     },
     "metadata": {},
     "execution_count": 45
    }
   ],
   "source": [
    "(-5*log(5,2)-1*log(1,2)-2*log(2,2)-2*log(2,2)-2*log(2,2)-2*log(2,2)+4*log(4,2)+4*log(4,2)+6*log(6,2))/14"
   ]
  },
  {
   "cell_type": "code",
   "execution_count": 46,
   "metadata": {},
   "outputs": [
    {
     "output_type": "execute_result",
     "data": {
      "text/plain": [
       "0.8921589282623617"
      ]
     },
     "metadata": {},
     "execution_count": 46
    }
   ],
   "source": [
    "(-3*log(3,2)-3*log(3,2)-6*log(6,2)-2*log(2,2)+6*log(6,2)+8*log(8,2))/14"
   ]
  },
  {
   "cell_type": "code",
   "execution_count": 51,
   "metadata": {},
   "outputs": [
    {
     "output_type": "execute_result",
     "data": {
      "text/plain": [
       "0.4591836734693877"
      ]
     },
     "metadata": {},
     "execution_count": 51
    }
   ],
   "source": [
    "1-((9/14)*(9/14) + (5/14)*(5/14))"
   ]
  },
  {
   "cell_type": "code",
   "execution_count": 48,
   "metadata": {},
   "outputs": [
    {
     "output_type": "execute_result",
     "data": {
      "text/plain": [
       "0.35714285714285715"
      ]
     },
     "metadata": {},
     "execution_count": 48
    }
   ],
   "source": [
    "5/14"
   ]
  },
  {
   "cell_type": "code",
   "execution_count": 52,
   "metadata": {},
   "outputs": [
    {
     "output_type": "execute_result",
     "data": {
      "text/plain": [
       "2.6"
      ]
     },
     "metadata": {},
     "execution_count": 52
    }
   ],
   "source": [
    "(2*2+3*3) / 5"
   ]
  },
  {
   "cell_type": "code",
   "execution_count": 53,
   "metadata": {},
   "outputs": [
    {
     "output_type": "execute_result",
     "data": {
      "text/plain": [
       "9.2"
      ]
     },
     "metadata": {},
     "execution_count": 53
    }
   ],
   "source": [
    "2.6+4+2.6"
   ]
  },
  {
   "cell_type": "code",
   "execution_count": 54,
   "metadata": {},
   "outputs": [
    {
     "output_type": "execute_result",
     "data": {
      "text/plain": [
       "0.6571428571428571"
      ]
     },
     "metadata": {},
     "execution_count": 54
    }
   ],
   "source": [
    "9.2/14"
   ]
  },
  {
   "cell_type": "code",
   "execution_count": 55,
   "metadata": {},
   "outputs": [
    {
     "output_type": "execute_result",
     "data": {
      "text/plain": [
       "0.3429"
      ]
     },
     "metadata": {},
     "execution_count": 55
    }
   ],
   "source": [
    "1-0.6571"
   ]
  },
  {
   "cell_type": "code",
   "execution_count": null,
   "metadata": {},
   "outputs": [],
   "source": []
  }
 ]
}