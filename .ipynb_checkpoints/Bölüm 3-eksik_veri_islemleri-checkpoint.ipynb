{
 "cells": [
  {
   "cell_type": "markdown",
   "id": "enabling-praise",
   "metadata": {},
   "source": [
    "# Python ile Eksik Verilerin İşlenmesi\n",
    "\n",
    "## Hafta 3\n",
    "\n",
    "Python programlama dilinde boş veya hatalı görülen değerler için NaN veya None ifadesi kullanılır. Kimi programlama dillerinde Null olarak kullanılan ifade Python programlama dilinde bulunmamaktadır. NaN ifadesi NumPy kütüphanesi içerisinde yer alan bir ifadedir ve “IEEE 754 floating point representation of Not a Number (NaN).” olarak tanımlanır.  None ile NaN değişkenleri arasında küçük farklar olsa da Pandas kütüphanesinde iki veri tipinde de eksik veri operasyonları yapılabilir. NaN veri tipinde nümerik hesaplamalar yapılabilir ancak None veri tipinde aritmetik işlemlerde hata ile karşılaşılır. Bu durumlar ile ilgili uygulamalar aşağıda verilmiştir."
   ]
  },
  {
   "cell_type": "code",
   "execution_count": 2,
   "id": "spanish-amsterdam",
   "metadata": {},
   "outputs": [],
   "source": [
    "# paketlerin çağrılması\n",
    "import numpy as np\n",
    "import pandas as pd"
   ]
  },
  {
   "cell_type": "markdown",
   "id": "necessary-uzbekistan",
   "metadata": {},
   "source": [
    "None veri tipi Python içerisinde tanımlı bir veri tipi. Olmayan veriyi temsil eder. "
   ]
  },
  {
   "cell_type": "code",
   "execution_count": 3,
   "id": "joint-print",
   "metadata": {},
   "outputs": [
    {
     "data": {
      "text/plain": [
       "NoneType"
      ]
     },
     "execution_count": 3,
     "metadata": {},
     "output_type": "execute_result"
    }
   ],
   "source": [
    "# type fonksiyonu veri tipinin ne olduğunu söyler\n",
    "type(None)"
   ]
  },
  {
   "cell_type": "code",
   "execution_count": 4,
   "id": "fancy-intensity",
   "metadata": {},
   "outputs": [
    {
     "ename": "TypeError",
     "evalue": "unsupported operand type(s) for +: 'NoneType' and 'int'",
     "output_type": "error",
     "traceback": [
      "\u001b[1;31m---------------------------------------------------------------------------\u001b[0m",
      "\u001b[1;31mTypeError\u001b[0m                                 Traceback (most recent call last)",
      "\u001b[1;32m<ipython-input-4-7651fd7ad4e2>\u001b[0m in \u001b[0;36m<module>\u001b[1;34m\u001b[0m\n\u001b[0;32m      1\u001b[0m \u001b[1;31m# None veri tipiyle bir işlem yapmaya çalışalım.\u001b[0m\u001b[1;33m\u001b[0m\u001b[1;33m\u001b[0m\u001b[1;33m\u001b[0m\u001b[0m\n\u001b[1;32m----> 2\u001b[1;33m \u001b[1;32mNone\u001b[0m\u001b[1;33m+\u001b[0m\u001b[1;36m1\u001b[0m\u001b[1;33m\u001b[0m\u001b[1;33m\u001b[0m\u001b[0m\n\u001b[0m",
      "\u001b[1;31mTypeError\u001b[0m: unsupported operand type(s) for +: 'NoneType' and 'int'"
     ]
    }
   ],
   "source": [
    "# None veri tipiyle bir işlem yapmaya çalışalım.\n",
    "None+1"
   ]
  },
  {
   "cell_type": "markdown",
   "id": "adjusted-dining",
   "metadata": {},
   "source": [
    "Hata ile karşılaştık. Demek ki Python'da None veri tipinde işlem yapmak mümkün değil. Buna dikkat ediyoruz.\n",
    "\n",
    "İkinci veri tipi ise NaN veri tipi Not a Number yani."
   ]
  },
  {
   "cell_type": "code",
   "execution_count": 5,
   "id": "freelance-illness",
   "metadata": {},
   "outputs": [
    {
     "data": {
      "text/plain": [
       "float"
      ]
     },
     "execution_count": 5,
     "metadata": {},
     "output_type": "execute_result"
    }
   ],
   "source": [
    "# np.NaN veri tipi\n",
    "type(np.nan)"
   ]
  },
  {
   "cell_type": "markdown",
   "id": "prescribed-wings",
   "metadata": {},
   "source": [
    "Demek ki veri tipi floatmış. Float yani işlem yapılabilir ama özel bir duruma sahip nasıl mı? Örneğin 1 ile nan veri tipini toplayalım."
   ]
  },
  {
   "cell_type": "code",
   "execution_count": 6,
   "id": "reliable-stylus",
   "metadata": {},
   "outputs": [
    {
     "name": "stdout",
     "output_type": "stream",
     "text": [
      "nan\n"
     ]
    }
   ],
   "source": [
    "# nan ile aritmetik işlemler yapılabilir.\n",
    "print(np.nan+1)"
   ]
  },
  {
   "cell_type": "markdown",
   "id": "proper-fleet",
   "metadata": {},
   "source": [
    "Gördüğünüz gibi hata vermedi ama 1 toplayınca yine de nan değerini dönderdi. Demek ki nan ile işlem yaparken bunu aklımızdan çıkarmayacağız. Demek ki NaN başka None başka davranıyor bunları bilmemiz gerekiyor. Şimdi bir seri oluşturarak biraz daha eksik veri özelliklerine bakalım."
   ]
  },
  {
   "cell_type": "code",
   "execution_count": 7,
   "id": "resident-punch",
   "metadata": {},
   "outputs": [],
   "source": [
    "# pandas içerisinde bir seri oluşturalım. \n",
    "# Serileri daha sonra daha detaylı inceleyeceğiz şimdilik bir veri \n",
    "# dizisi olarak bilebilirsiniz\n",
    "eksik_veri_serisi = pd.Series(data=np.array([None, np.nan, 1, 2, \"Merhaba\"]))"
   ]
  },
  {
   "cell_type": "code",
   "execution_count": 12,
   "id": "desirable-technician",
   "metadata": {
    "scrolled": true
   },
   "outputs": [
    {
     "data": {
      "text/plain": [
       "0     True\n",
       "1     True\n",
       "2    False\n",
       "3    False\n",
       "4    False\n",
       "dtype: bool"
      ]
     },
     "execution_count": 12,
     "metadata": {},
     "output_type": "execute_result"
    }
   ],
   "source": [
    "# Artık bir serimiz var. Burada eksik verileri tespit etmek ve işlem \n",
    "# yapmak ile ilgilenebiliriz. Öncelilkle tespit edelim.\n",
    "# isnull() komutu bize hangi verilerin eksik olduğu bilgisini verir. \n",
    "# Bakın True ve False lara dikkat edin. isnull ne demek eksik veri mi demek.\n",
    "# eksik veri ise True değilse False dönderiyor. \n",
    "# Aynı fonksiyon isna() ile de çalıştırılabilir. Demek ki isnull() fonksiyonunu\n",
    "# ve isna() fonksiyonunu unutmuyoruz eksik verilerin tespiti için bunları\n",
    "# kullanacağız.\n",
    "eksik_veri_serisi.isnull()"
   ]
  },
  {
   "cell_type": "code",
   "execution_count": 13,
   "id": "separated-subcommittee",
   "metadata": {},
   "outputs": [
    {
     "data": {
      "text/plain": [
       "0     True\n",
       "1     True\n",
       "2    False\n",
       "3    False\n",
       "4    False\n",
       "dtype: bool"
      ]
     },
     "execution_count": 13,
     "metadata": {},
     "output_type": "execute_result"
    }
   ],
   "source": [
    "eksik_veri_serisi.isna()"
   ]
  },
  {
   "cell_type": "markdown",
   "id": "pediatric-faculty",
   "metadata": {},
   "source": [
    "Tespit işine devam edelim. Kaç adet eksik verimiz var bunu görmek istersek sum() komutunu kullanabiliriz. "
   ]
  },
  {
   "cell_type": "code",
   "execution_count": 15,
   "id": "earned-shoot",
   "metadata": {},
   "outputs": [
    {
     "data": {
      "text/plain": [
       "2"
      ]
     },
     "execution_count": 15,
     "metadata": {},
     "output_type": "execute_result"
    }
   ],
   "source": [
    "eksik_veri_serisi.isnull().sum()"
   ]
  },
  {
   "cell_type": "markdown",
   "id": "ancient-alert",
   "metadata": {},
   "source": [
    "Demek ki 2 adet eksik verimiz varmış. Bu verilerin neler olduğunu görmek istersek bir dilimleme işlemi yapabiliriz. eksik veri serisi içerisine sadece isnull() olanları getir dersek bu işlemi gerçekleştirmiş oluruz."
   ]
  },
  {
   "cell_type": "code",
   "execution_count": 16,
   "id": "flush-ivory",
   "metadata": {},
   "outputs": [
    {
     "data": {
      "text/plain": [
       "0    None\n",
       "1     NaN\n",
       "dtype: object"
      ]
     },
     "execution_count": 16,
     "metadata": {},
     "output_type": "execute_result"
    }
   ],
   "source": [
    "eksik_veri_serisi[eksik_veri_serisi.isnull()]"
   ]
  },
  {
   "cell_type": "markdown",
   "id": "crazy-saskatchewan",
   "metadata": {},
   "source": [
    "İki adet var onlardan birincisi None ikincisi NaN olarak gelmiş. Bunları tespit ettik. Nasıl getireceğimizi de bu şekilde söylemiş olduk. Bazı durumlarda eksik olmayan verileri de getirmek isteriz. Bu durumda da notnull() fonksiyonunu kullanırız."
   ]
  },
  {
   "cell_type": "code",
   "execution_count": 59,
   "id": "hairy-controversy",
   "metadata": {},
   "outputs": [
    {
     "data": {
      "text/plain": [
       "2          1\n",
       "3          2\n",
       "4    Merhaba\n",
       "dtype: object"
      ]
     },
     "execution_count": 59,
     "metadata": {},
     "output_type": "execute_result"
    }
   ],
   "source": [
    "eksik_veri_serisi[eksik_veri_serisi.notna()]"
   ]
  },
  {
   "cell_type": "code",
   "execution_count": 17,
   "id": "basic-season",
   "metadata": {},
   "outputs": [
    {
     "data": {
      "text/plain": [
       "2          1\n",
       "3          2\n",
       "4    Merhaba\n",
       "dtype: object"
      ]
     },
     "execution_count": 17,
     "metadata": {},
     "output_type": "execute_result"
    }
   ],
   "source": [
    "# Şimdi bu eksik verileri ilk yöntemimiz olan göz ardı etmeyi görelim. \n",
    "# Bunun için fonksiyonumuz dropna() komutu\n",
    "# eksik verileri düşür demek için. Bu durumda eksik olan veriler \n",
    "# veri setinden düşürülür.\n",
    "eksik_veri_serisi.dropna()"
   ]
  },
  {
   "cell_type": "markdown",
   "id": "agricultural-orange",
   "metadata": {},
   "source": [
    "Gördüğünüz gibi eksik veriler veri setinde kalmadı. Bunu yapabiliriz. Ya da ikinci yöntemimiz olan herhangi bir değerle doldurma yöntemini de tercih edebiliriz. Şimdi eksik olan verileri -1 ile dolduralım. Bunun için de kullancağımız fonksiyon fillna() fonksiyonu"
   ]
  },
  {
   "cell_type": "code",
   "execution_count": 18,
   "id": "musical-kenya",
   "metadata": {},
   "outputs": [
    {
     "data": {
      "text/plain": [
       "0         -1\n",
       "1         -1\n",
       "2          1\n",
       "3          2\n",
       "4    Merhaba\n",
       "dtype: object"
      ]
     },
     "execution_count": 18,
     "metadata": {},
     "output_type": "execute_result"
    }
   ],
   "source": [
    "eksik_veri_serisi.fillna(value=-1)"
   ]
  },
  {
   "cell_type": "markdown",
   "id": "nervous-diversity",
   "metadata": {},
   "source": [
    "Bu şekilde bir doldurma işlemi gerçekleştirebiliriz. Burada dikkatinizi çekmiştir dropna ile eksik verileri düşürdük ama tekrar eksik_veri_serisini çağırdığımızda eksik verileri bu kez de doldurduk. Nasıl oldu? Bu fonksiyonlar kalıcı fonksiyonlar değil geçici fonksiyonlar. Yani görüntüde bir değişiklik yapıyorlar varsayılan olarak. Demek istediğim,"
   ]
  },
  {
   "cell_type": "code",
   "execution_count": 19,
   "id": "accepting-cincinnati",
   "metadata": {},
   "outputs": [
    {
     "data": {
      "text/plain": [
       "0       None\n",
       "1        NaN\n",
       "2          1\n",
       "3          2\n",
       "4    Merhaba\n",
       "dtype: object"
      ]
     },
     "execution_count": 19,
     "metadata": {},
     "output_type": "execute_result"
    }
   ],
   "source": [
    "# bakın bir değişiklik yok\n",
    "eksik_veri_serisi"
   ]
  },
  {
   "cell_type": "code",
   "execution_count": 20,
   "id": "raising-climate",
   "metadata": {},
   "outputs": [],
   "source": [
    "# güzel bir yöntem olarak orijinal verisetini değiştirmeden bu \n",
    "# işlemleri yapabiliriz. O nedenle yeni veri seti olarak eksik\n",
    "# verilerin elendiği veri setini kaydedelim.\n",
    "eksik_veri_serisi_doldurulmus = eksik_veri_serisi.fillna(value=-1)"
   ]
  },
  {
   "cell_type": "code",
   "execution_count": 21,
   "id": "heavy-initial",
   "metadata": {},
   "outputs": [
    {
     "data": {
      "text/plain": [
       "0         -1\n",
       "1         -1\n",
       "2          1\n",
       "3          2\n",
       "4    Merhaba\n",
       "dtype: object"
      ]
     },
     "execution_count": 21,
     "metadata": {},
     "output_type": "execute_result"
    }
   ],
   "source": [
    "eksik_veri_serisi_doldurulmus"
   ]
  },
  {
   "cell_type": "code",
   "execution_count": 22,
   "id": "unexpected-shelter",
   "metadata": {},
   "outputs": [],
   "source": [
    "# aynı şekilde düşürülmüş diye de bir veri seti tutabiliriz.\n",
    "eksik_veri_serisi_dusurulmus = eksik_veri_serisi.dropna()"
   ]
  },
  {
   "cell_type": "code",
   "execution_count": 23,
   "id": "governing-phoenix",
   "metadata": {},
   "outputs": [
    {
     "data": {
      "text/plain": [
       "2          1\n",
       "3          2\n",
       "4    Merhaba\n",
       "dtype: object"
      ]
     },
     "execution_count": 23,
     "metadata": {},
     "output_type": "execute_result"
    }
   ],
   "source": [
    "eksik_veri_serisi_dusurulmus"
   ]
  },
  {
   "cell_type": "markdown",
   "id": "acknowledged-system",
   "metadata": {},
   "source": [
    "Bunun dışında eğer aynı veri setine devam etmek istiyorsak ve ismini de değiştirmek istemiyorsak inplace = True parametresini kullanabiliriz."
   ]
  },
  {
   "cell_type": "code",
   "execution_count": 24,
   "id": "hindu-floating",
   "metadata": {},
   "outputs": [],
   "source": [
    "eksik_veri_serisi.dropna(inplace=True)"
   ]
  },
  {
   "cell_type": "code",
   "execution_count": 25,
   "id": "contemporary-forth",
   "metadata": {},
   "outputs": [
    {
     "data": {
      "text/plain": [
       "2          1\n",
       "3          2\n",
       "4    Merhaba\n",
       "dtype: object"
      ]
     },
     "execution_count": 25,
     "metadata": {},
     "output_type": "execute_result"
    }
   ],
   "source": [
    "eksik_veri_serisi"
   ]
  },
  {
   "cell_type": "markdown",
   "id": "tamil-franklin",
   "metadata": {},
   "source": [
    "Gördüğünüz gibi eksik veri serisi etkilenmiş oldu. Şimdi arkadaşlar bilgilerimizi bir üst seviyeye taşıyalım. Bu kez gerçek bir veri seti içerisinde bu öğrendiklerimizi ve bir üst düzeyini öğrenmeye çalışalım. Sizinle UCI sitesinden nasıl veri indirildiğini görmüştük. Şimdi de başka bir yöntem ile verilerimizi çağıracağız. \n",
    "\n",
    "Veri seti için [şuraya](https://gist.github.com/michhar/2dfd2de0d4f8727f873422c5d959fff5) gidelim [bu adreste](https://gist.githubusercontent.com/michhar/2dfd2de0d4f8727f873422c5d959fff5/raw/fa71405126017e6a37bea592440b4bee94bf7b9e/titanic.csv) mevcut olan csv dosyasını alalım.  \n",
    "\n",
    "Bu veri seti titanic veri seti. Literatürde bilinen makine öğrenmesi veri seti. Titanic gemisine binen yolculara ait bilgiler veriyor. Hayatta kaldı mı kalmadı mı falan gibi bilgiler var. Veri setini çok detaylı bilmemize gerek yok. Eksik veriler ile ilgileneceğiz şimdilik. Daha sonra uygulama yaparsak makine öğrenmesi uygulaması orada daha detaylı inceleriz.\n",
    "\n",
    "PassengerId\tSurvived\tPclass\tName\tSex\tAge\tSibSp\tParch\tTicket\tFare\tCabin\tEmbarked"
   ]
  },
  {
   "cell_type": "code",
   "execution_count": 27,
   "id": "special-johnson",
   "metadata": {},
   "outputs": [],
   "source": [
    "veri_seti = pd.read_csv(\n",
    "    \"https://gist.githubusercontent.com/michhar/2dfd2de0d4f8727f873422c5d959fff5/raw/fa71405126017e6a37bea592440b4bee94bf7b9e/titanic.csv\"\n",
    ")"
   ]
  },
  {
   "cell_type": "code",
   "execution_count": 28,
   "id": "subsequent-locking",
   "metadata": {},
   "outputs": [
    {
     "data": {
      "text/html": [
       "<div>\n",
       "<style scoped>\n",
       "    .dataframe tbody tr th:only-of-type {\n",
       "        vertical-align: middle;\n",
       "    }\n",
       "\n",
       "    .dataframe tbody tr th {\n",
       "        vertical-align: top;\n",
       "    }\n",
       "\n",
       "    .dataframe thead th {\n",
       "        text-align: right;\n",
       "    }\n",
       "</style>\n",
       "<table border=\"1\" class=\"dataframe\">\n",
       "  <thead>\n",
       "    <tr style=\"text-align: right;\">\n",
       "      <th></th>\n",
       "      <th>PassengerId</th>\n",
       "      <th>Survived</th>\n",
       "      <th>Pclass</th>\n",
       "      <th>Name</th>\n",
       "      <th>Sex</th>\n",
       "      <th>Age</th>\n",
       "      <th>SibSp</th>\n",
       "      <th>Parch</th>\n",
       "      <th>Ticket</th>\n",
       "      <th>Fare</th>\n",
       "      <th>Cabin</th>\n",
       "      <th>Embarked</th>\n",
       "    </tr>\n",
       "  </thead>\n",
       "  <tbody>\n",
       "    <tr>\n",
       "      <th>0</th>\n",
       "      <td>1</td>\n",
       "      <td>0</td>\n",
       "      <td>3</td>\n",
       "      <td>Braund, Mr. Owen Harris</td>\n",
       "      <td>male</td>\n",
       "      <td>22.0</td>\n",
       "      <td>1</td>\n",
       "      <td>0</td>\n",
       "      <td>A/5 21171</td>\n",
       "      <td>7.2500</td>\n",
       "      <td>NaN</td>\n",
       "      <td>S</td>\n",
       "    </tr>\n",
       "    <tr>\n",
       "      <th>1</th>\n",
       "      <td>2</td>\n",
       "      <td>1</td>\n",
       "      <td>1</td>\n",
       "      <td>Cumings, Mrs. John Bradley (Florence Briggs Th...</td>\n",
       "      <td>female</td>\n",
       "      <td>38.0</td>\n",
       "      <td>1</td>\n",
       "      <td>0</td>\n",
       "      <td>PC 17599</td>\n",
       "      <td>71.2833</td>\n",
       "      <td>C85</td>\n",
       "      <td>C</td>\n",
       "    </tr>\n",
       "    <tr>\n",
       "      <th>2</th>\n",
       "      <td>3</td>\n",
       "      <td>1</td>\n",
       "      <td>3</td>\n",
       "      <td>Heikkinen, Miss. Laina</td>\n",
       "      <td>female</td>\n",
       "      <td>26.0</td>\n",
       "      <td>0</td>\n",
       "      <td>0</td>\n",
       "      <td>STON/O2. 3101282</td>\n",
       "      <td>7.9250</td>\n",
       "      <td>NaN</td>\n",
       "      <td>S</td>\n",
       "    </tr>\n",
       "    <tr>\n",
       "      <th>3</th>\n",
       "      <td>4</td>\n",
       "      <td>1</td>\n",
       "      <td>1</td>\n",
       "      <td>Futrelle, Mrs. Jacques Heath (Lily May Peel)</td>\n",
       "      <td>female</td>\n",
       "      <td>35.0</td>\n",
       "      <td>1</td>\n",
       "      <td>0</td>\n",
       "      <td>113803</td>\n",
       "      <td>53.1000</td>\n",
       "      <td>C123</td>\n",
       "      <td>S</td>\n",
       "    </tr>\n",
       "    <tr>\n",
       "      <th>4</th>\n",
       "      <td>5</td>\n",
       "      <td>0</td>\n",
       "      <td>3</td>\n",
       "      <td>Allen, Mr. William Henry</td>\n",
       "      <td>male</td>\n",
       "      <td>35.0</td>\n",
       "      <td>0</td>\n",
       "      <td>0</td>\n",
       "      <td>373450</td>\n",
       "      <td>8.0500</td>\n",
       "      <td>NaN</td>\n",
       "      <td>S</td>\n",
       "    </tr>\n",
       "  </tbody>\n",
       "</table>\n",
       "</div>"
      ],
      "text/plain": [
       "   PassengerId  Survived  Pclass  \\\n",
       "0            1         0       3   \n",
       "1            2         1       1   \n",
       "2            3         1       3   \n",
       "3            4         1       1   \n",
       "4            5         0       3   \n",
       "\n",
       "                                                Name     Sex   Age  SibSp  \\\n",
       "0                            Braund, Mr. Owen Harris    male  22.0      1   \n",
       "1  Cumings, Mrs. John Bradley (Florence Briggs Th...  female  38.0      1   \n",
       "2                             Heikkinen, Miss. Laina  female  26.0      0   \n",
       "3       Futrelle, Mrs. Jacques Heath (Lily May Peel)  female  35.0      1   \n",
       "4                           Allen, Mr. William Henry    male  35.0      0   \n",
       "\n",
       "   Parch            Ticket     Fare Cabin Embarked  \n",
       "0      0         A/5 21171   7.2500   NaN        S  \n",
       "1      0          PC 17599  71.2833   C85        C  \n",
       "2      0  STON/O2. 3101282   7.9250   NaN        S  \n",
       "3      0            113803  53.1000  C123        S  \n",
       "4      0            373450   8.0500   NaN        S  "
      ]
     },
     "execution_count": 28,
     "metadata": {},
     "output_type": "execute_result"
    }
   ],
   "source": [
    "veri_seti.head()"
   ]
  },
  {
   "cell_type": "markdown",
   "id": "automotive-force",
   "metadata": {},
   "source": [
    "head() fonksiyonu ile ilk 5 satırı görebiliriz. Bakın burada kabin içerisinde nan değerleri var demek ki bunlar boş ya da eksik veriler. csv dosyasından bakalım. csv dosyasını excel ile açarak inceleyelim aynı zamanda. Metni sütunlara dönüştür, virgül olarak yazalım. \n",
    "\n",
    "Şimdi boş verileri inceleyelim. Bu verilerin boş olduğunu biliyoruz. Önce tespiti ile ilgilenelim tekrar."
   ]
  },
  {
   "cell_type": "code",
   "execution_count": 29,
   "id": "intellectual-tender",
   "metadata": {},
   "outputs": [
    {
     "data": {
      "text/plain": [
       "PassengerId      0\n",
       "Survived         0\n",
       "Pclass           0\n",
       "Name             0\n",
       "Sex              0\n",
       "Age            177\n",
       "SibSp            0\n",
       "Parch            0\n",
       "Ticket           0\n",
       "Fare             0\n",
       "Cabin          687\n",
       "Embarked         2\n",
       "dtype: int64"
      ]
     },
     "execution_count": 29,
     "metadata": {},
     "output_type": "execute_result"
    }
   ],
   "source": [
    "# boş verilerin sayısına bakalım.\n",
    "veri_seti.isna().sum()"
   ]
  },
  {
   "cell_type": "code",
   "execution_count": 30,
   "id": "hazardous-detection",
   "metadata": {},
   "outputs": [],
   "source": [
    "# Demek ki Age, Cabin ve Embarked özelliklerinde eksik veriler var. Peki bir de bu özelliklerde\n",
    "# girilmiş olan değerlere bakalım."
   ]
  },
  {
   "cell_type": "code",
   "execution_count": 31,
   "id": "caroline-framework",
   "metadata": {},
   "outputs": [
    {
     "data": {
      "text/plain": [
       "array([22.  , 38.  , 26.  , 35.  ,   nan, 54.  ,  2.  , 27.  , 14.  ,\n",
       "        4.  , 58.  , 20.  , 39.  , 55.  , 31.  , 34.  , 15.  , 28.  ,\n",
       "        8.  , 19.  , 40.  , 66.  , 42.  , 21.  , 18.  ,  3.  ,  7.  ,\n",
       "       49.  , 29.  , 65.  , 28.5 ,  5.  , 11.  , 45.  , 17.  , 32.  ,\n",
       "       16.  , 25.  ,  0.83, 30.  , 33.  , 23.  , 24.  , 46.  , 59.  ,\n",
       "       71.  , 37.  , 47.  , 14.5 , 70.5 , 32.5 , 12.  ,  9.  , 36.5 ,\n",
       "       51.  , 55.5 , 40.5 , 44.  ,  1.  , 61.  , 56.  , 50.  , 36.  ,\n",
       "       45.5 , 20.5 , 62.  , 41.  , 52.  , 63.  , 23.5 ,  0.92, 43.  ,\n",
       "       60.  , 10.  , 64.  , 13.  , 48.  ,  0.75, 53.  , 57.  , 80.  ,\n",
       "       70.  , 24.5 ,  6.  ,  0.67, 30.5 ,  0.42, 34.5 , 74.  ])"
      ]
     },
     "execution_count": 31,
     "metadata": {},
     "output_type": "execute_result"
    }
   ],
   "source": [
    "veri_seti.Age.unique()"
   ]
  },
  {
   "cell_type": "markdown",
   "id": "fifteen-biography",
   "metadata": {},
   "source": [
    "Bir sorun gözükmüyor. Bir de kabine bakalım. Aynı zamanda value_counts() ile hangi değerden kaç adet var onlara bakalım."
   ]
  },
  {
   "cell_type": "code",
   "execution_count": 33,
   "id": "nearby-reflection",
   "metadata": {},
   "outputs": [
    {
     "data": {
      "text/plain": [
       "C23 C25 C27    4\n",
       "B96 B98        4\n",
       "G6             4\n",
       "E101           3\n",
       "D              3\n",
       "              ..\n",
       "C148           1\n",
       "C32            1\n",
       "B80            1\n",
       "B73            1\n",
       "F E69          1\n",
       "Name: Cabin, Length: 147, dtype: int64"
      ]
     },
     "execution_count": 33,
     "metadata": {},
     "output_type": "execute_result"
    }
   ],
   "source": [
    "veri_seti[\"Cabin\"].value_counts()"
   ]
  },
  {
   "cell_type": "markdown",
   "id": "continuing-image",
   "metadata": {},
   "source": [
    "Demek ki en fazla tekrar eden c23, c25 veya c27 imiş aklımızda kalsın. Bir de aldığı tüm değerlere bakalım ki gözümüze çarpan bir değer olacak mı ne bileyim -1 gibi xxx gibi saçma bir girdi var mıymış bir bakalım."
   ]
  },
  {
   "cell_type": "code",
   "execution_count": 34,
   "id": "mineral-hollow",
   "metadata": {},
   "outputs": [
    {
     "data": {
      "text/plain": [
       "array([nan, 'C85', 'C123', 'E46', 'G6', 'C103', 'D56', 'A6',\n",
       "       'C23 C25 C27', 'B78', 'D33', 'B30', 'C52', 'B28', 'C83', 'F33',\n",
       "       'F G73', 'E31', 'A5', 'D10 D12', 'D26', 'C110', 'B58 B60', 'E101',\n",
       "       'F E69', 'D47', 'B86', 'F2', 'C2', 'E33', 'B19', 'A7', 'C49', 'F4',\n",
       "       'A32', 'B4', 'B80', 'A31', 'D36', 'D15', 'C93', 'C78', 'D35',\n",
       "       'C87', 'B77', 'E67', 'B94', 'C125', 'C99', 'C118', 'D7', 'A19',\n",
       "       'B49', 'D', 'C22 C26', 'C106', 'C65', 'E36', 'C54',\n",
       "       'B57 B59 B63 B66', 'C7', 'E34', 'C32', 'B18', 'C124', 'C91', 'E40',\n",
       "       'T', 'C128', 'D37', 'B35', 'E50', 'C82', 'B96 B98', 'E10', 'E44',\n",
       "       'A34', 'C104', 'C111', 'C92', 'E38', 'D21', 'E12', 'E63', 'A14',\n",
       "       'B37', 'C30', 'D20', 'B79', 'E25', 'D46', 'B73', 'C95', 'B38',\n",
       "       'B39', 'B22', 'C86', 'C70', 'A16', 'C101', 'C68', 'A10', 'E68',\n",
       "       'B41', 'A20', 'D19', 'D50', 'D9', 'A23', 'B50', 'A26', 'D48',\n",
       "       'E58', 'C126', 'B71', 'B51 B53 B55', 'D49', 'B5', 'B20', 'F G63',\n",
       "       'C62 C64', 'E24', 'C90', 'C45', 'E8', 'B101', 'D45', 'C46', 'D30',\n",
       "       'E121', 'D11', 'E77', 'F38', 'B3', 'D6', 'B82 B84', 'D17', 'A36',\n",
       "       'B102', 'B69', 'E49', 'C47', 'D28', 'E17', 'A24', 'C50', 'B42',\n",
       "       'C148'], dtype=object)"
      ]
     },
     "execution_count": 34,
     "metadata": {},
     "output_type": "execute_result"
    }
   ],
   "source": [
    "veri_seti[\"Cabin\"].unique()"
   ]
  },
  {
   "cell_type": "markdown",
   "id": "pressed-estonia",
   "metadata": {},
   "source": [
    "Sorun gözükmüyor. Eksik verilerimiz bu şekilde nasıl tespit edeceğimizi ve nasıl ulaşacağımızı öğrendik, şimdi doldurma seçeneklerine bakalım."
   ]
  },
  {
   "cell_type": "code",
   "execution_count": 38,
   "id": "dedicated-letters",
   "metadata": {},
   "outputs": [
    {
     "data": {
      "text/html": [
       "<div>\n",
       "<style scoped>\n",
       "    .dataframe tbody tr th:only-of-type {\n",
       "        vertical-align: middle;\n",
       "    }\n",
       "\n",
       "    .dataframe tbody tr th {\n",
       "        vertical-align: top;\n",
       "    }\n",
       "\n",
       "    .dataframe thead th {\n",
       "        text-align: right;\n",
       "    }\n",
       "</style>\n",
       "<table border=\"1\" class=\"dataframe\">\n",
       "  <thead>\n",
       "    <tr style=\"text-align: right;\">\n",
       "      <th></th>\n",
       "      <th>PassengerId</th>\n",
       "      <th>Survived</th>\n",
       "      <th>Pclass</th>\n",
       "      <th>Name</th>\n",
       "      <th>Sex</th>\n",
       "      <th>Age</th>\n",
       "      <th>SibSp</th>\n",
       "      <th>Parch</th>\n",
       "      <th>Ticket</th>\n",
       "      <th>Fare</th>\n",
       "      <th>Cabin</th>\n",
       "      <th>Embarked</th>\n",
       "    </tr>\n",
       "  </thead>\n",
       "  <tbody>\n",
       "    <tr>\n",
       "      <th>0</th>\n",
       "      <td>1</td>\n",
       "      <td>0</td>\n",
       "      <td>3</td>\n",
       "      <td>Braund, Mr. Owen Harris</td>\n",
       "      <td>male</td>\n",
       "      <td>22.0</td>\n",
       "      <td>1</td>\n",
       "      <td>0</td>\n",
       "      <td>A/5 21171</td>\n",
       "      <td>7.2500</td>\n",
       "      <td>0</td>\n",
       "      <td>S</td>\n",
       "    </tr>\n",
       "    <tr>\n",
       "      <th>1</th>\n",
       "      <td>2</td>\n",
       "      <td>1</td>\n",
       "      <td>1</td>\n",
       "      <td>Cumings, Mrs. John Bradley (Florence Briggs Th...</td>\n",
       "      <td>female</td>\n",
       "      <td>38.0</td>\n",
       "      <td>1</td>\n",
       "      <td>0</td>\n",
       "      <td>PC 17599</td>\n",
       "      <td>71.2833</td>\n",
       "      <td>C85</td>\n",
       "      <td>C</td>\n",
       "    </tr>\n",
       "    <tr>\n",
       "      <th>2</th>\n",
       "      <td>3</td>\n",
       "      <td>1</td>\n",
       "      <td>3</td>\n",
       "      <td>Heikkinen, Miss. Laina</td>\n",
       "      <td>female</td>\n",
       "      <td>26.0</td>\n",
       "      <td>0</td>\n",
       "      <td>0</td>\n",
       "      <td>STON/O2. 3101282</td>\n",
       "      <td>7.9250</td>\n",
       "      <td>0</td>\n",
       "      <td>S</td>\n",
       "    </tr>\n",
       "    <tr>\n",
       "      <th>3</th>\n",
       "      <td>4</td>\n",
       "      <td>1</td>\n",
       "      <td>1</td>\n",
       "      <td>Futrelle, Mrs. Jacques Heath (Lily May Peel)</td>\n",
       "      <td>female</td>\n",
       "      <td>35.0</td>\n",
       "      <td>1</td>\n",
       "      <td>0</td>\n",
       "      <td>113803</td>\n",
       "      <td>53.1000</td>\n",
       "      <td>C123</td>\n",
       "      <td>S</td>\n",
       "    </tr>\n",
       "    <tr>\n",
       "      <th>4</th>\n",
       "      <td>5</td>\n",
       "      <td>0</td>\n",
       "      <td>3</td>\n",
       "      <td>Allen, Mr. William Henry</td>\n",
       "      <td>male</td>\n",
       "      <td>35.0</td>\n",
       "      <td>0</td>\n",
       "      <td>0</td>\n",
       "      <td>373450</td>\n",
       "      <td>8.0500</td>\n",
       "      <td>0</td>\n",
       "      <td>S</td>\n",
       "    </tr>\n",
       "  </tbody>\n",
       "</table>\n",
       "</div>"
      ],
      "text/plain": [
       "   PassengerId  Survived  Pclass  \\\n",
       "0            1         0       3   \n",
       "1            2         1       1   \n",
       "2            3         1       3   \n",
       "3            4         1       1   \n",
       "4            5         0       3   \n",
       "\n",
       "                                                Name     Sex   Age  SibSp  \\\n",
       "0                            Braund, Mr. Owen Harris    male  22.0      1   \n",
       "1  Cumings, Mrs. John Bradley (Florence Briggs Th...  female  38.0      1   \n",
       "2                             Heikkinen, Miss. Laina  female  26.0      0   \n",
       "3       Futrelle, Mrs. Jacques Heath (Lily May Peel)  female  35.0      1   \n",
       "4                           Allen, Mr. William Henry    male  35.0      0   \n",
       "\n",
       "   Parch            Ticket     Fare Cabin Embarked  \n",
       "0      0         A/5 21171   7.2500     0        S  \n",
       "1      0          PC 17599  71.2833   C85        C  \n",
       "2      0  STON/O2. 3101282   7.9250     0        S  \n",
       "3      0            113803  53.1000  C123        S  \n",
       "4      0            373450   8.0500     0        S  "
      ]
     },
     "execution_count": 38,
     "metadata": {},
     "output_type": "execute_result"
    }
   ],
   "source": [
    "# fillna komutu ile tüm boşları dolduralım. a\n",
    "veri_seti.fillna(value=0).head()"
   ]
  },
  {
   "cell_type": "code",
   "execution_count": 39,
   "id": "pending-loading",
   "metadata": {},
   "outputs": [],
   "source": [
    "# şimdi bu dosyayı csv olarak dışarı alıp inceleyelim.\n",
    "veri_seti.fillna(value=0).to_csv(\"sifir_dolduruldu.csv\")"
   ]
  },
  {
   "cell_type": "code",
   "execution_count": null,
   "id": "strategic-wellington",
   "metadata": {},
   "outputs": [],
   "source": [
    "# Bir de en fazla tekrar edenle doldurmak isteriz. "
   ]
  },
  {
   "cell_type": "code",
   "execution_count": 52,
   "id": "preliminary-touch",
   "metadata": {
    "scrolled": true
   },
   "outputs": [
    {
     "data": {
      "text/html": [
       "<div>\n",
       "<style scoped>\n",
       "    .dataframe tbody tr th:only-of-type {\n",
       "        vertical-align: middle;\n",
       "    }\n",
       "\n",
       "    .dataframe tbody tr th {\n",
       "        vertical-align: top;\n",
       "    }\n",
       "\n",
       "    .dataframe thead th {\n",
       "        text-align: right;\n",
       "    }\n",
       "</style>\n",
       "<table border=\"1\" class=\"dataframe\">\n",
       "  <thead>\n",
       "    <tr style=\"text-align: right;\">\n",
       "      <th></th>\n",
       "      <th>PassengerId</th>\n",
       "      <th>Survived</th>\n",
       "      <th>Pclass</th>\n",
       "      <th>Name</th>\n",
       "      <th>Sex</th>\n",
       "      <th>Age</th>\n",
       "      <th>SibSp</th>\n",
       "      <th>Parch</th>\n",
       "      <th>Ticket</th>\n",
       "      <th>Fare</th>\n",
       "      <th>Cabin</th>\n",
       "      <th>Embarked</th>\n",
       "    </tr>\n",
       "  </thead>\n",
       "  <tbody>\n",
       "    <tr>\n",
       "      <th>0</th>\n",
       "      <td>1</td>\n",
       "      <td>0</td>\n",
       "      <td>3</td>\n",
       "      <td>Braund, Mr. Owen Harris</td>\n",
       "      <td>male</td>\n",
       "      <td>22.0</td>\n",
       "      <td>1</td>\n",
       "      <td>0</td>\n",
       "      <td>A/5 21171</td>\n",
       "      <td>7.2500</td>\n",
       "      <td>C23</td>\n",
       "      <td>S</td>\n",
       "    </tr>\n",
       "    <tr>\n",
       "      <th>1</th>\n",
       "      <td>2</td>\n",
       "      <td>1</td>\n",
       "      <td>1</td>\n",
       "      <td>Cumings, Mrs. John Bradley (Florence Briggs Th...</td>\n",
       "      <td>female</td>\n",
       "      <td>38.0</td>\n",
       "      <td>1</td>\n",
       "      <td>0</td>\n",
       "      <td>PC 17599</td>\n",
       "      <td>71.2833</td>\n",
       "      <td>C85</td>\n",
       "      <td>C</td>\n",
       "    </tr>\n",
       "    <tr>\n",
       "      <th>2</th>\n",
       "      <td>3</td>\n",
       "      <td>1</td>\n",
       "      <td>3</td>\n",
       "      <td>Heikkinen, Miss. Laina</td>\n",
       "      <td>female</td>\n",
       "      <td>26.0</td>\n",
       "      <td>0</td>\n",
       "      <td>0</td>\n",
       "      <td>STON/O2. 3101282</td>\n",
       "      <td>7.9250</td>\n",
       "      <td>C23</td>\n",
       "      <td>S</td>\n",
       "    </tr>\n",
       "    <tr>\n",
       "      <th>3</th>\n",
       "      <td>4</td>\n",
       "      <td>1</td>\n",
       "      <td>1</td>\n",
       "      <td>Futrelle, Mrs. Jacques Heath (Lily May Peel)</td>\n",
       "      <td>female</td>\n",
       "      <td>35.0</td>\n",
       "      <td>1</td>\n",
       "      <td>0</td>\n",
       "      <td>113803</td>\n",
       "      <td>53.1000</td>\n",
       "      <td>C123</td>\n",
       "      <td>S</td>\n",
       "    </tr>\n",
       "    <tr>\n",
       "      <th>4</th>\n",
       "      <td>5</td>\n",
       "      <td>0</td>\n",
       "      <td>3</td>\n",
       "      <td>Allen, Mr. William Henry</td>\n",
       "      <td>male</td>\n",
       "      <td>35.0</td>\n",
       "      <td>0</td>\n",
       "      <td>0</td>\n",
       "      <td>373450</td>\n",
       "      <td>8.0500</td>\n",
       "      <td>C23</td>\n",
       "      <td>S</td>\n",
       "    </tr>\n",
       "  </tbody>\n",
       "</table>\n",
       "</div>"
      ],
      "text/plain": [
       "   PassengerId  Survived  Pclass  \\\n",
       "0            1         0       3   \n",
       "1            2         1       1   \n",
       "2            3         1       3   \n",
       "3            4         1       1   \n",
       "4            5         0       3   \n",
       "\n",
       "                                                Name     Sex   Age  SibSp  \\\n",
       "0                            Braund, Mr. Owen Harris    male  22.0      1   \n",
       "1  Cumings, Mrs. John Bradley (Florence Briggs Th...  female  38.0      1   \n",
       "2                             Heikkinen, Miss. Laina  female  26.0      0   \n",
       "3       Futrelle, Mrs. Jacques Heath (Lily May Peel)  female  35.0      1   \n",
       "4                           Allen, Mr. William Henry    male  35.0      0   \n",
       "\n",
       "   Parch            Ticket     Fare Cabin Embarked  \n",
       "0      0         A/5 21171   7.2500   C23        S  \n",
       "1      0          PC 17599  71.2833   C85        C  \n",
       "2      0  STON/O2. 3101282   7.9250   C23        S  \n",
       "3      0            113803  53.1000  C123        S  \n",
       "4      0            373450   8.0500   C23        S  "
      ]
     },
     "execution_count": 52,
     "metadata": {},
     "output_type": "execute_result"
    }
   ],
   "source": [
    "# fillna sadece istenen sütunlara doldurmak için sözlük kullanabiliriz. \n",
    "# C23 en fazla tekrar edendi o nedenle onunla doldurmak isteyebiliriz.\n",
    "veri_seti.fillna({'Cabin':\"C23\"}).head()"
   ]
  },
  {
   "cell_type": "code",
   "execution_count": 9,
   "id": "f83f75b0",
   "metadata": {},
   "outputs": [
    {
     "ename": "NameError",
     "evalue": "name 'fillna' is not defined",
     "output_type": "error",
     "traceback": [
      "\u001b[1;31m---------------------------------------------------------------------------\u001b[0m",
      "\u001b[1;31mNameError\u001b[0m                                 Traceback (most recent call last)",
      "\u001b[1;32m<ipython-input-9-3a156aed8c2b>\u001b[0m in \u001b[0;36m<module>\u001b[1;34m\u001b[0m\n\u001b[1;32m----> 1\u001b[1;33m \u001b[0mhelp\u001b[0m\u001b[1;33m(\u001b[0m\u001b[0mfillna\u001b[0m\u001b[1;33m(\u001b[0m\u001b[1;33m)\u001b[0m\u001b[1;33m)\u001b[0m\u001b[1;33m\u001b[0m\u001b[1;33m\u001b[0m\u001b[0m\n\u001b[0m",
      "\u001b[1;31mNameError\u001b[0m: name 'fillna' is not defined"
     ]
    }
   ],
   "source": [
    "help(pd.DataFrame)"
   ]
  },
  {
   "cell_type": "markdown",
   "id": "competitive-machine",
   "metadata": {},
   "source": [
    "Tamamını bu şekilde value belirterek doldurabiliriz. Bir de fillna() fonksiyonunun özelliklerine bakalım.\n",
    "\n",
    "value : scalar, dict, Series, or DataFrame\n",
    "    Value to use to fill holes (e.g. 0), alternately a\n",
    "    dict/Series/DataFrame of values specifying which value to use for\n",
    "    each index (for a Series) or column (for a DataFrame).  Values not\n",
    "    in the dict/Series/DataFrame will not be filled. This value cannot\n",
    "    be a list.\n",
    "method : {'backfill', 'bfill', 'pad', 'ffill', None}, default None\n",
    "    Method to use for filling holes in reindexed Series\n",
    "    pad / ffill: propagate last valid observation forward to next valid\n",
    "    backfill / bfill: use next valid observation to fill gap.\n",
    "axis : {0 or 'index', 1 or 'columns'}\n",
    "    Axis along which to fill missing values.\n",
    "inplace : bool, default False\n",
    "    If True, fill in-place. Note: this will modify any\n",
    "    other views on this object (e.g., a no-copy slice for a column in a\n",
    "    DataFrame).\n",
    "limit : int, default None\n",
    "    If method is specified, this is the maximum number of consecutive\n",
    "    NaN values to forward/backward fill. In other words, if there is\n",
    "    a gap with more than this number of consecutive NaNs, it will only\n",
    "    be partially filled. If method is not specified, this is the\n",
    "    maximum number of entries along the entire axis where NaNs will be\n",
    "    filled. Must be greater than 0 if not None.\n",
    "downcast : dict, default is None\n",
    "    A dict of item->dtype of what to downcast if possible,\n",
    "    or the string 'infer' which will try to downcast to an appropriate\n",
    "    equal type (e.g. float64 to int64 if possible)."
   ]
  },
  {
   "cell_type": "code",
   "execution_count": 41,
   "id": "returning-stations",
   "metadata": {},
   "outputs": [],
   "source": [
    "# bfill sonraki dolu olan hücre ile şimdiki boş hücreyi doldurur. \n",
    "veri_seti.fillna(method=\"bfill\").to_csv(\"bfill_dolduruldu.csv\")"
   ]
  },
  {
   "cell_type": "code",
   "execution_count": 44,
   "id": "romance-flower",
   "metadata": {},
   "outputs": [],
   "source": [
    "# bfill içerisine limit parametresi ile limit koyabiliriz. \n",
    "# dolu hücre gördükten sonra bir öncesine kadar doldursun iki öncesini doldurmasın.\n",
    "# istersek 2 veya daha farklı sayı seçerek istediğimiz kadar geri gitmesini sağlayabiliriz.\n",
    "veri_seti.fillna(method=\"bfill\", limit=1).to_csv(\"bfill_limit_1.csv\")"
   ]
  },
  {
   "cell_type": "code",
   "execution_count": 45,
   "id": "american-behalf",
   "metadata": {},
   "outputs": [],
   "source": [
    "# Benzer şekilde ffill ile dolduralım.\n",
    "# Bu da aşağı doğru doldurur.\n",
    "# Boş hücre görürse önceki dolu hücreye gider ve ona göre doldurur.\n",
    "\n",
    "veri_seti.fillna(method=\"ffill\", limit=2).to_csv(\"ffill_limit_2.csv\")"
   ]
  },
  {
   "cell_type": "markdown",
   "id": "fantastic-evolution",
   "metadata": {},
   "source": [
    "axis ise satır satır gitmek istediğimiz durumda kullandığımız bir seçenek. Buna da örnek verelim ama kolay kolay bunu kullanmayabiliriz. \n",
    "\n"
   ]
  },
  {
   "cell_type": "code",
   "execution_count": 48,
   "id": "secret-prince",
   "metadata": {},
   "outputs": [],
   "source": [
    "# axis = 0 ya da \"rows satır satır değişiklik yapacağız demektir\"\n",
    "# axis = 1 ya da \"columns\" sütunlarda değiştirerek gideceğiz demektir."
   ]
  },
  {
   "cell_type": "code",
   "execution_count": 50,
   "id": "organizational-disclosure",
   "metadata": {},
   "outputs": [
    {
     "data": {
      "text/html": [
       "<div>\n",
       "<style scoped>\n",
       "    .dataframe tbody tr th:only-of-type {\n",
       "        vertical-align: middle;\n",
       "    }\n",
       "\n",
       "    .dataframe tbody tr th {\n",
       "        vertical-align: top;\n",
       "    }\n",
       "\n",
       "    .dataframe thead th {\n",
       "        text-align: right;\n",
       "    }\n",
       "</style>\n",
       "<table border=\"1\" class=\"dataframe\">\n",
       "  <thead>\n",
       "    <tr style=\"text-align: right;\">\n",
       "      <th></th>\n",
       "      <th>PassengerId</th>\n",
       "      <th>Survived</th>\n",
       "      <th>Pclass</th>\n",
       "      <th>Name</th>\n",
       "      <th>Sex</th>\n",
       "      <th>Age</th>\n",
       "      <th>SibSp</th>\n",
       "      <th>Parch</th>\n",
       "      <th>Ticket</th>\n",
       "      <th>Fare</th>\n",
       "      <th>Cabin</th>\n",
       "      <th>Embarked</th>\n",
       "    </tr>\n",
       "  </thead>\n",
       "  <tbody>\n",
       "    <tr>\n",
       "      <th>0</th>\n",
       "      <td>1</td>\n",
       "      <td>0</td>\n",
       "      <td>3</td>\n",
       "      <td>Braund, Mr. Owen Harris</td>\n",
       "      <td>male</td>\n",
       "      <td>22.0</td>\n",
       "      <td>1</td>\n",
       "      <td>0</td>\n",
       "      <td>A/5 21171</td>\n",
       "      <td>7.2500</td>\n",
       "      <td>S</td>\n",
       "      <td>S</td>\n",
       "    </tr>\n",
       "    <tr>\n",
       "      <th>1</th>\n",
       "      <td>2</td>\n",
       "      <td>1</td>\n",
       "      <td>1</td>\n",
       "      <td>Cumings, Mrs. John Bradley (Florence Briggs Th...</td>\n",
       "      <td>female</td>\n",
       "      <td>38.0</td>\n",
       "      <td>1</td>\n",
       "      <td>0</td>\n",
       "      <td>PC 17599</td>\n",
       "      <td>71.2833</td>\n",
       "      <td>C85</td>\n",
       "      <td>C</td>\n",
       "    </tr>\n",
       "    <tr>\n",
       "      <th>2</th>\n",
       "      <td>3</td>\n",
       "      <td>1</td>\n",
       "      <td>3</td>\n",
       "      <td>Heikkinen, Miss. Laina</td>\n",
       "      <td>female</td>\n",
       "      <td>26.0</td>\n",
       "      <td>0</td>\n",
       "      <td>0</td>\n",
       "      <td>STON/O2. 3101282</td>\n",
       "      <td>7.9250</td>\n",
       "      <td>S</td>\n",
       "      <td>S</td>\n",
       "    </tr>\n",
       "    <tr>\n",
       "      <th>3</th>\n",
       "      <td>4</td>\n",
       "      <td>1</td>\n",
       "      <td>1</td>\n",
       "      <td>Futrelle, Mrs. Jacques Heath (Lily May Peel)</td>\n",
       "      <td>female</td>\n",
       "      <td>35.0</td>\n",
       "      <td>1</td>\n",
       "      <td>0</td>\n",
       "      <td>113803</td>\n",
       "      <td>53.1000</td>\n",
       "      <td>C123</td>\n",
       "      <td>S</td>\n",
       "    </tr>\n",
       "    <tr>\n",
       "      <th>4</th>\n",
       "      <td>5</td>\n",
       "      <td>0</td>\n",
       "      <td>3</td>\n",
       "      <td>Allen, Mr. William Henry</td>\n",
       "      <td>male</td>\n",
       "      <td>35.0</td>\n",
       "      <td>0</td>\n",
       "      <td>0</td>\n",
       "      <td>373450</td>\n",
       "      <td>8.0500</td>\n",
       "      <td>S</td>\n",
       "      <td>S</td>\n",
       "    </tr>\n",
       "  </tbody>\n",
       "</table>\n",
       "</div>"
      ],
      "text/plain": [
       "  PassengerId Survived Pclass  \\\n",
       "0           1        0      3   \n",
       "1           2        1      1   \n",
       "2           3        1      3   \n",
       "3           4        1      1   \n",
       "4           5        0      3   \n",
       "\n",
       "                                                Name     Sex   Age SibSp  \\\n",
       "0                            Braund, Mr. Owen Harris    male  22.0     1   \n",
       "1  Cumings, Mrs. John Bradley (Florence Briggs Th...  female  38.0     1   \n",
       "2                             Heikkinen, Miss. Laina  female  26.0     0   \n",
       "3       Futrelle, Mrs. Jacques Heath (Lily May Peel)  female  35.0     1   \n",
       "4                           Allen, Mr. William Henry    male  35.0     0   \n",
       "\n",
       "  Parch            Ticket     Fare Cabin Embarked  \n",
       "0     0         A/5 21171   7.2500     S        S  \n",
       "1     0          PC 17599  71.2833   C85        C  \n",
       "2     0  STON/O2. 3101282   7.9250     S        S  \n",
       "3     0            113803  53.1000  C123        S  \n",
       "4     0            373450   8.0500     S        S  "
      ]
     },
     "execution_count": 50,
     "metadata": {},
     "output_type": "execute_result"
    }
   ],
   "source": [
    "veri_seti.fillna(method=\"bfill\", axis=1).head()\n",
    "# Cabin boş olunca bir sonraki sütundaki değeri aldı. Bunu sağlayabiliriz."
   ]
  },
  {
   "cell_type": "markdown",
   "id": "horizontal-testing",
   "metadata": {},
   "source": [
    "inplace i biliyorsunuz veri setini değiştirmek istiyorsak kullanıyoruz."
   ]
  },
  {
   "cell_type": "code",
   "execution_count": null,
   "id": "protected-relations",
   "metadata": {},
   "outputs": [],
   "source": [
    "veri_seti.fillna()"
   ]
  },
  {
   "cell_type": "markdown",
   "id": "ambient-depth",
   "metadata": {},
   "source": [
    "Şimdi biraz da Age ile ilgilenelim. Bakın Age yani yaş bir nümerik değişken. Bunun için doldurma yöntemleri daha fazla olabilir. Az önceki kabin değişkeni nominal bir değişkendi. Onun için bir önceki bir sonraki gibi değerler ile değiştirmemiz gayet normal."
   ]
  },
  {
   "cell_type": "code",
   "execution_count": 55,
   "id": "congressional-great",
   "metadata": {},
   "outputs": [
    {
     "data": {
      "text/plain": [
       "0    22.0\n",
       "1    38.0\n",
       "2    26.0\n",
       "3    35.0\n",
       "4    35.0\n",
       "Name: Age, dtype: float64"
      ]
     },
     "execution_count": 55,
     "metadata": {},
     "output_type": "execute_result"
    }
   ],
   "source": [
    "# önce veri seti hakkında bilgi alalım\n",
    "veri_seti.Age.head()"
   ]
  },
  {
   "cell_type": "code",
   "execution_count": 56,
   "id": "charitable-lease",
   "metadata": {},
   "outputs": [
    {
     "data": {
      "text/plain": [
       "24.00    30\n",
       "22.00    27\n",
       "18.00    26\n",
       "28.00    25\n",
       "19.00    25\n",
       "         ..\n",
       "55.50     1\n",
       "74.00     1\n",
       "0.92      1\n",
       "70.50     1\n",
       "12.00     1\n",
       "Name: Age, Length: 88, dtype: int64"
      ]
     },
     "execution_count": 56,
     "metadata": {},
     "output_type": "execute_result"
    }
   ],
   "source": [
    "veri_seti.Age.value_counts()"
   ]
  },
  {
   "cell_type": "code",
   "execution_count": 57,
   "id": "reduced-arthur",
   "metadata": {},
   "outputs": [
    {
     "data": {
      "text/plain": [
       "array([22.  , 38.  , 26.  , 35.  ,   nan, 54.  ,  2.  , 27.  , 14.  ,\n",
       "        4.  , 58.  , 20.  , 39.  , 55.  , 31.  , 34.  , 15.  , 28.  ,\n",
       "        8.  , 19.  , 40.  , 66.  , 42.  , 21.  , 18.  ,  3.  ,  7.  ,\n",
       "       49.  , 29.  , 65.  , 28.5 ,  5.  , 11.  , 45.  , 17.  , 32.  ,\n",
       "       16.  , 25.  ,  0.83, 30.  , 33.  , 23.  , 24.  , 46.  , 59.  ,\n",
       "       71.  , 37.  , 47.  , 14.5 , 70.5 , 32.5 , 12.  ,  9.  , 36.5 ,\n",
       "       51.  , 55.5 , 40.5 , 44.  ,  1.  , 61.  , 56.  , 50.  , 36.  ,\n",
       "       45.5 , 20.5 , 62.  , 41.  , 52.  , 63.  , 23.5 ,  0.92, 43.  ,\n",
       "       60.  , 10.  , 64.  , 13.  , 48.  ,  0.75, 53.  , 57.  , 80.  ,\n",
       "       70.  , 24.5 ,  6.  ,  0.67, 30.5 ,  0.42, 34.5 , 74.  ])"
      ]
     },
     "execution_count": 57,
     "metadata": {},
     "output_type": "execute_result"
    }
   ],
   "source": [
    "veri_seti.Age.unique()"
   ]
  },
  {
   "cell_type": "code",
   "execution_count": 60,
   "id": "minimal-month",
   "metadata": {},
   "outputs": [
    {
     "data": {
      "text/plain": [
       "count    714.000000\n",
       "mean      29.699118\n",
       "std       14.526497\n",
       "min        0.420000\n",
       "25%       20.125000\n",
       "50%       28.000000\n",
       "75%       38.000000\n",
       "max       80.000000\n",
       "Name: Age, dtype: float64"
      ]
     },
     "execution_count": 60,
     "metadata": {},
     "output_type": "execute_result"
    }
   ],
   "source": [
    "veri_seti.Age.describe()"
   ]
  },
  {
   "cell_type": "markdown",
   "id": "skilled-government",
   "metadata": {},
   "source": [
    "Anormal bir durum yok. Şimdi Age değişkenini doldurma metotlarına bakalım. Cabin'nden farklı olsun mesela interpolate interpolasyon ile yapalım. Yani eşit adımlı bir yaklaşım ile dolduracağız. Örneğin yolcu 5 ile 7 arasındaki yaş değeri boş. Bu değeri önceki ve sonraki verilerden yararlanarak doldurmak istersek,"
   ]
  },
  {
   "cell_type": "code",
   "execution_count": 63,
   "id": "entertaining-culture",
   "metadata": {},
   "outputs": [],
   "source": [
    "veri_seti.Age.interpolate().to_csv(\"enterpolasyon_age.csv\")"
   ]
  },
  {
   "cell_type": "code",
   "execution_count": 65,
   "id": "instructional-polls",
   "metadata": {},
   "outputs": [],
   "source": [
    "# gördüğünüz gibi ortalaması ile doldurdu. Şimdi interpolate ile ilgili bilgi alalım.\n",
    "# shift tab ile bakabiliriz.\n",
    "# index yani satır numarasına göre enterpolasyon yapar. Örneğin 30. kişi 31 e 28 den daha yakın. \n",
    "# ona göre bir enterpolasyon yapmasını isteyebiliriz.\n",
    "# 19-26-33-40 oldu. Hepsinin adım sayısı kaç? 7 işte enterpolasyon bu demek.\n",
    "\n",
    "veri_seti.Age.interpolate(method='index').to_csv(\"enterpolasyon_age_index.csv\")"
   ]
  },
  {
   "cell_type": "markdown",
   "id": "premium-redhead",
   "metadata": {},
   "source": [
    "- dropna() önce tamamını kaldıralım. value_counts() ile sayısına bakalım. shape komutu ile sayısına bakalım. how='all', how='any' bahsedelim. thresh = 1 at least 1 dolu varsa tutuyor. Yoksa siliyor."
   ]
  },
  {
   "cell_type": "markdown",
   "id": "nutritional-debut",
   "metadata": {},
   "source": [
    "Şimdi biraz da düşürme yani eksik verileri silme işlemlerine bakalım. Bunun için dropna() fonksiyonunu kullanıyoruz demiştik."
   ]
  },
  {
   "cell_type": "code",
   "execution_count": 67,
   "id": "cathedral-sierra",
   "metadata": {},
   "outputs": [
    {
     "data": {
      "text/plain": [
       "PassengerId    0\n",
       "Survived       0\n",
       "Pclass         0\n",
       "Name           0\n",
       "Sex            0\n",
       "Age            0\n",
       "SibSp          0\n",
       "Parch          0\n",
       "Ticket         0\n",
       "Fare           0\n",
       "Cabin          0\n",
       "Embarked       0\n",
       "dtype: int64"
      ]
     },
     "execution_count": 67,
     "metadata": {},
     "output_type": "execute_result"
    }
   ],
   "source": [
    "# how= any demek satırda herhangi bir özelliğin değeri boşsa o satır komple silinir.\n",
    "veri_seti.dropna(how=\"any\").isnull().sum()"
   ]
  },
  {
   "cell_type": "code",
   "execution_count": 69,
   "id": "looking-rover",
   "metadata": {},
   "outputs": [
    {
     "data": {
      "text/plain": [
       "PassengerId      0\n",
       "Survived         0\n",
       "Pclass           0\n",
       "Name             0\n",
       "Sex              0\n",
       "Age            177\n",
       "SibSp            0\n",
       "Parch            0\n",
       "Ticket           0\n",
       "Fare             0\n",
       "Cabin          687\n",
       "Embarked         2\n",
       "dtype: int64"
      ]
     },
     "execution_count": 69,
     "metadata": {},
     "output_type": "execute_result"
    }
   ],
   "source": [
    "# how=all demek eğer tüm verileri eksik olan varsa onları sil demek.\n",
    "veri_seti.dropna(how=\"all\").isnull().sum()"
   ]
  },
  {
   "cell_type": "code",
   "execution_count": 77,
   "id": "specified-timber",
   "metadata": {},
   "outputs": [
    {
     "data": {
      "text/plain": [
       "(891, 12)"
      ]
     },
     "execution_count": 77,
     "metadata": {},
     "output_type": "execute_result"
    }
   ],
   "source": [
    "veri_seti.shape"
   ]
  },
  {
   "cell_type": "code",
   "execution_count": 80,
   "id": "animated-three",
   "metadata": {},
   "outputs": [
    {
     "data": {
      "text/plain": [
       "PassengerId      0\n",
       "Survived         0\n",
       "Pclass           0\n",
       "Name             0\n",
       "Sex              0\n",
       "Age             19\n",
       "SibSp            0\n",
       "Parch            0\n",
       "Ticket           0\n",
       "Fare             0\n",
       "Cabin          529\n",
       "Embarked         2\n",
       "dtype: int64"
      ]
     },
     "execution_count": 80,
     "metadata": {},
     "output_type": "execute_result"
    }
   ],
   "source": [
    "# thresholt değeri kaç veri varsa kalacağını söylüyoruz. 11 sütunu doluysa dursun yoksa silelim.\n",
    "veri_seti.dropna(thresh=11).isnull().sum()"
   ]
  },
  {
   "cell_type": "code",
   "execution_count": 83,
   "id": "designed-assist",
   "metadata": {},
   "outputs": [
    {
     "data": {
      "text/plain": [
       "PassengerId    0\n",
       "Survived       0\n",
       "Pclass         0\n",
       "Name           0\n",
       "Sex            0\n",
       "Age            0\n",
       "SibSp          0\n",
       "Parch          0\n",
       "Ticket         0\n",
       "Fare           0\n",
       "Cabin          0\n",
       "Embarked       2\n",
       "dtype: int64"
      ]
     },
     "execution_count": 83,
     "metadata": {},
     "output_type": "execute_result"
    }
   ],
   "source": [
    "# sadece Cabin ve Age'de işlem yapmak istersek subset parametresini kullanabiliriz.\n",
    "veri_seti.dropna(subset=['Cabin','Age']).isnull().sum()"
   ]
  },
  {
   "cell_type": "code",
   "execution_count": null,
   "id": "shared-supervisor",
   "metadata": {},
   "outputs": [],
   "source": []
  },
  {
   "cell_type": "code",
   "execution_count": null,
   "id": "worthy-pressure",
   "metadata": {},
   "outputs": [],
   "source": []
  }
 ],
 "metadata": {
  "kernelspec": {
   "display_name": "Python 3 (ipykernel)",
   "language": "python",
   "name": "python3"
  },
  "language_info": {
   "codemirror_mode": {
    "name": "ipython",
    "version": 3
   },
   "file_extension": ".py",
   "mimetype": "text/x-python",
   "name": "python",
   "nbconvert_exporter": "python",
   "pygments_lexer": "ipython3",
   "version": "3.9.7"
  },
  "toc": {
   "base_numbering": 1,
   "nav_menu": {},
   "number_sections": true,
   "sideBar": true,
   "skip_h1_title": false,
   "title_cell": "Table of Contents",
   "title_sidebar": "Contents",
   "toc_cell": false,
   "toc_position": {},
   "toc_section_display": true,
   "toc_window_display": false
  },
  "varInspector": {
   "cols": {
    "lenName": 16,
    "lenType": 16,
    "lenVar": 40
   },
   "kernels_config": {
    "python": {
     "delete_cmd_postfix": "",
     "delete_cmd_prefix": "del ",
     "library": "var_list.py",
     "varRefreshCmd": "print(var_dic_list())"
    },
    "r": {
     "delete_cmd_postfix": ") ",
     "delete_cmd_prefix": "rm(",
     "library": "var_list.r",
     "varRefreshCmd": "cat(var_dic_list()) "
    }
   },
   "types_to_exclude": [
    "module",
    "function",
    "builtin_function_or_method",
    "instance",
    "_Feature"
   ],
   "window_display": false
  }
 },
 "nbformat": 4,
 "nbformat_minor": 5
}
